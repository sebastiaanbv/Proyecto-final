{
 "cells": [
  {
   "cell_type": "markdown",
   "metadata": {
    "id": "b8fd1864-5239-488e-baf4-350a40ad1efc"
   },
   "source": [
    "# Import libraries"
   ]
  },
  {
   "cell_type": "code",
   "execution_count": 77,
   "metadata": {
    "executionInfo": {
     "elapsed": 16,
     "status": "ok",
     "timestamp": 1729633271836,
     "user": {
      "displayName": "Julian mendoza",
      "userId": "05731547993991985363"
     },
     "user_tz": 300
    },
    "id": "7159650f-8ac6-4e26-a330-bc2720a4f92e"
   },
   "outputs": [],
   "source": [
    "import pandas as pd\n",
    "import pg8000\n",
    "import numpy as np\n",
    "import matplotlib.pyplot     as plt\n",
    "import matplotlib.patches    as mpatches\n",
    "import seaborn               as sns\n",
    "import sweetviz as sv\n",
    "import sklearn.metrics       as Metrics\n",
    "%matplotlib inline"
   ]
  },
  {
   "cell_type": "markdown",
   "metadata": {
    "id": "2ae70329-f31b-4559-8580-7e3846f0b9ac"
   },
   "source": [
    "# Read file"
   ]
  },
  {
   "cell_type": "code",
   "execution_count": 78,
   "metadata": {
    "executionInfo": {
     "elapsed": 19,
     "status": "ok",
     "timestamp": 1729633273146,
     "user": {
      "displayName": "Julian mendoza",
      "userId": "05731547993991985363"
     },
     "user_tz": 300
    },
    "id": "e7a89141-f061-4fc7-81e0-9eda71c459b2"
   },
   "outputs": [],
   "source": [
    "df = pd.read_csv('C:/Users/USER/OneDrive - universidadean.edu.co/3. Machine learning/Proyecto final/datos_granja.csv',sep=\";\")\n"
   ]
  },
  {
   "cell_type": "code",
   "execution_count": 79,
   "metadata": {
    "colab": {
     "base_uri": "https://localhost:8080/",
     "height": 423
    },
    "executionInfo": {
     "elapsed": 201,
     "status": "ok",
     "timestamp": 1729633302510,
     "user": {
      "displayName": "Julian mendoza",
      "userId": "05731547993991985363"
     },
     "user_tz": 300
    },
    "id": "08ea327a-f89b-4d77-92e0-ca2117b6445e",
    "outputId": "69b0d112-7320-47d3-84bb-a24c918bb0cb"
   },
   "outputs": [
    {
     "data": {
      "text/html": [
       "<div>\n",
       "<style scoped>\n",
       "    .dataframe tbody tr th:only-of-type {\n",
       "        vertical-align: middle;\n",
       "    }\n",
       "\n",
       "    .dataframe tbody tr th {\n",
       "        vertical-align: top;\n",
       "    }\n",
       "\n",
       "    .dataframe thead th {\n",
       "        text-align: right;\n",
       "    }\n",
       "</style>\n",
       "<table border=\"1\" class=\"dataframe\">\n",
       "  <thead>\n",
       "    <tr style=\"text-align: right;\">\n",
       "      <th></th>\n",
       "      <th>Fecha</th>\n",
       "      <th>CO</th>\n",
       "      <th>Ciudad</th>\n",
       "      <th>Temperatura</th>\n",
       "      <th>Depto</th>\n",
       "      <th>Consumo</th>\n",
       "      <th>Unidades</th>\n",
       "      <th>Edad</th>\n",
       "      <th>Sexo</th>\n",
       "      <th>TipoGranja</th>\n",
       "      <th>Peso</th>\n",
       "    </tr>\n",
       "  </thead>\n",
       "  <tbody>\n",
       "    <tr>\n",
       "      <th>0</th>\n",
       "      <td>17/07/2024</td>\n",
       "      <td>E45</td>\n",
       "      <td>Fusagasuga</td>\n",
       "      <td>21</td>\n",
       "      <td>Cundinamarca</td>\n",
       "      <td>695.250000</td>\n",
       "      <td>10057.0</td>\n",
       "      <td>31</td>\n",
       "      <td>machos</td>\n",
       "      <td>MANUAL</td>\n",
       "      <td>1.718</td>\n",
       "    </tr>\n",
       "    <tr>\n",
       "      <th>1</th>\n",
       "      <td>17/07/2024</td>\n",
       "      <td>E45</td>\n",
       "      <td>Fusagasuga</td>\n",
       "      <td>21</td>\n",
       "      <td>Cundinamarca</td>\n",
       "      <td>695.250000</td>\n",
       "      <td>10057.0</td>\n",
       "      <td>31</td>\n",
       "      <td>hembras</td>\n",
       "      <td>MANUAL</td>\n",
       "      <td>1.718</td>\n",
       "    </tr>\n",
       "    <tr>\n",
       "      <th>2</th>\n",
       "      <td>17/07/2024</td>\n",
       "      <td>E45</td>\n",
       "      <td>Fusagasuga</td>\n",
       "      <td>21</td>\n",
       "      <td>Cundinamarca</td>\n",
       "      <td>676.812500</td>\n",
       "      <td>7298.0</td>\n",
       "      <td>31</td>\n",
       "      <td>machos</td>\n",
       "      <td>MANUAL</td>\n",
       "      <td>1.943</td>\n",
       "    </tr>\n",
       "    <tr>\n",
       "      <th>3</th>\n",
       "      <td>17/07/2024</td>\n",
       "      <td>E45</td>\n",
       "      <td>Fusagasuga</td>\n",
       "      <td>21</td>\n",
       "      <td>Cundinamarca</td>\n",
       "      <td>676.812500</td>\n",
       "      <td>7298.0</td>\n",
       "      <td>31</td>\n",
       "      <td>hembras</td>\n",
       "      <td>MANUAL</td>\n",
       "      <td>1.943</td>\n",
       "    </tr>\n",
       "    <tr>\n",
       "      <th>4</th>\n",
       "      <td>17/07/2024</td>\n",
       "      <td>E08</td>\n",
       "      <td>Sasaima</td>\n",
       "      <td>26</td>\n",
       "      <td>Cundinamarca</td>\n",
       "      <td>196.575758</td>\n",
       "      <td>2977.0</td>\n",
       "      <td>32</td>\n",
       "      <td>hembras</td>\n",
       "      <td>MANUAL</td>\n",
       "      <td>1.598</td>\n",
       "    </tr>\n",
       "    <tr>\n",
       "      <th>...</th>\n",
       "      <td>...</td>\n",
       "      <td>...</td>\n",
       "      <td>...</td>\n",
       "      <td>...</td>\n",
       "      <td>...</td>\n",
       "      <td>...</td>\n",
       "      <td>...</td>\n",
       "      <td>...</td>\n",
       "      <td>...</td>\n",
       "      <td>...</td>\n",
       "      <td>...</td>\n",
       "    </tr>\n",
       "    <tr>\n",
       "      <th>1752</th>\n",
       "      <td>17/10/2024</td>\n",
       "      <td>E25</td>\n",
       "      <td>Restrepo</td>\n",
       "      <td>29</td>\n",
       "      <td>Meta</td>\n",
       "      <td>577.322581</td>\n",
       "      <td>7521.0</td>\n",
       "      <td>30</td>\n",
       "      <td>machos</td>\n",
       "      <td>MANUAL</td>\n",
       "      <td>1.817</td>\n",
       "    </tr>\n",
       "    <tr>\n",
       "      <th>1753</th>\n",
       "      <td>17/10/2024</td>\n",
       "      <td>E25</td>\n",
       "      <td>Restrepo</td>\n",
       "      <td>29</td>\n",
       "      <td>Meta</td>\n",
       "      <td>577.322581</td>\n",
       "      <td>7521.0</td>\n",
       "      <td>30</td>\n",
       "      <td>hembras</td>\n",
       "      <td>MANUAL</td>\n",
       "      <td>1.817</td>\n",
       "    </tr>\n",
       "    <tr>\n",
       "      <th>1754</th>\n",
       "      <td>17/10/2024</td>\n",
       "      <td>E25</td>\n",
       "      <td>Restrepo</td>\n",
       "      <td>29</td>\n",
       "      <td>Meta</td>\n",
       "      <td>577.322581</td>\n",
       "      <td>7521.0</td>\n",
       "      <td>30</td>\n",
       "      <td>hembras</td>\n",
       "      <td>MANUAL</td>\n",
       "      <td>1.817</td>\n",
       "    </tr>\n",
       "    <tr>\n",
       "      <th>1755</th>\n",
       "      <td>17/10/2024</td>\n",
       "      <td>E25</td>\n",
       "      <td>Restrepo</td>\n",
       "      <td>29</td>\n",
       "      <td>Meta</td>\n",
       "      <td>577.322581</td>\n",
       "      <td>7521.0</td>\n",
       "      <td>30</td>\n",
       "      <td>hembras</td>\n",
       "      <td>MANUAL</td>\n",
       "      <td>1.817</td>\n",
       "    </tr>\n",
       "    <tr>\n",
       "      <th>1756</th>\n",
       "      <td>17/10/2024</td>\n",
       "      <td>E25</td>\n",
       "      <td>Restrepo</td>\n",
       "      <td>29</td>\n",
       "      <td>Meta</td>\n",
       "      <td>577.322581</td>\n",
       "      <td>7521.0</td>\n",
       "      <td>30</td>\n",
       "      <td>hembras</td>\n",
       "      <td>MANUAL</td>\n",
       "      <td>1.817</td>\n",
       "    </tr>\n",
       "  </tbody>\n",
       "</table>\n",
       "<p>1757 rows × 11 columns</p>\n",
       "</div>"
      ],
      "text/plain": [
       "           Fecha   CO      Ciudad  Temperatura         Depto     Consumo  \\\n",
       "0     17/07/2024  E45  Fusagasuga           21  Cundinamarca  695.250000   \n",
       "1     17/07/2024  E45  Fusagasuga           21  Cundinamarca  695.250000   \n",
       "2     17/07/2024  E45  Fusagasuga           21  Cundinamarca  676.812500   \n",
       "3     17/07/2024  E45  Fusagasuga           21  Cundinamarca  676.812500   \n",
       "4     17/07/2024  E08     Sasaima           26  Cundinamarca  196.575758   \n",
       "...          ...  ...         ...          ...           ...         ...   \n",
       "1752  17/10/2024  E25    Restrepo           29          Meta  577.322581   \n",
       "1753  17/10/2024  E25    Restrepo           29          Meta  577.322581   \n",
       "1754  17/10/2024  E25    Restrepo           29          Meta  577.322581   \n",
       "1755  17/10/2024  E25    Restrepo           29          Meta  577.322581   \n",
       "1756  17/10/2024  E25    Restrepo           29          Meta  577.322581   \n",
       "\n",
       "      Unidades  Edad     Sexo TipoGranja   Peso  \n",
       "0      10057.0    31   machos     MANUAL  1.718  \n",
       "1      10057.0    31  hembras     MANUAL  1.718  \n",
       "2       7298.0    31   machos     MANUAL  1.943  \n",
       "3       7298.0    31  hembras     MANUAL  1.943  \n",
       "4       2977.0    32  hembras     MANUAL  1.598  \n",
       "...        ...   ...      ...        ...    ...  \n",
       "1752    7521.0    30   machos     MANUAL  1.817  \n",
       "1753    7521.0    30  hembras     MANUAL  1.817  \n",
       "1754    7521.0    30  hembras     MANUAL  1.817  \n",
       "1755    7521.0    30  hembras     MANUAL  1.817  \n",
       "1756    7521.0    30  hembras     MANUAL  1.817  \n",
       "\n",
       "[1757 rows x 11 columns]"
      ]
     },
     "execution_count": 79,
     "metadata": {},
     "output_type": "execute_result"
    }
   ],
   "source": [
    "df"
   ]
  },
  {
   "cell_type": "markdown",
   "metadata": {
    "id": "ac927cea-06b6-47f3-a1b8-f13e8052de4e"
   },
   "source": [
    "# Normalize_cols"
   ]
  },
  {
   "cell_type": "code",
   "execution_count": 80,
   "metadata": {
    "executionInfo": {
     "elapsed": 7,
     "status": "ok",
     "timestamp": 1729633302511,
     "user": {
      "displayName": "Julian mendoza",
      "userId": "05731547993991985363"
     },
     "user_tz": 300
    },
    "id": "a7a0dca7-4c33-4d75-9c5b-222e2f22c606"
   },
   "outputs": [],
   "source": [
    "def remove_accents_cols(df_cols):\n",
    "    return df_cols.str.replace('ñ','ni').str.normalize('NFKD').str.encode('ascii', errors='ignore').str.decode('utf-8')\n",
    "def remove_special_chars(df_cols):\n",
    "    return df_cols.str.replace(r'[$@&/.:-]',' ', regex=True)\n",
    "def regular_camel_case(snake_str):\n",
    "    components = snake_str.split('_')\n",
    "    return components[0] + ''.join(x.title() for x in components[1:])\n",
    "def regular_snake_case(df_cols):\n",
    "    cols = df_cols.str.replace('ñ','ni')\n",
    "    cols = cols.str.lower().str.replace('/',' ').str.replace('.',' ').str.strip()\n",
    "    cols = cols.str.replace(r'\\s+',' ',regex=True)\n",
    "    cols = cols.str.replace(' ','_')\n",
    "    return cols"
   ]
  },
  {
   "cell_type": "code",
   "execution_count": 81,
   "metadata": {
    "executionInfo": {
     "elapsed": 7,
     "status": "ok",
     "timestamp": 1729633302511,
     "user": {
      "displayName": "Julian mendoza",
      "userId": "05731547993991985363"
     },
     "user_tz": 300
    },
    "id": "e047d972-8c9e-4602-a9cf-f647a5e0a71b"
   },
   "outputs": [],
   "source": [
    "df.columns = remove_accents_cols(df.columns)\n",
    "df.columns = remove_special_chars(df.columns)\n",
    "df.columns = regular_snake_case(df.columns)"
   ]
  },
  {
   "cell_type": "code",
   "execution_count": 82,
   "metadata": {
    "colab": {
     "base_uri": "https://localhost:8080/",
     "height": 423
    },
    "executionInfo": {
     "elapsed": 278,
     "status": "ok",
     "timestamp": 1729633302782,
     "user": {
      "displayName": "Julian mendoza",
      "userId": "05731547993991985363"
     },
     "user_tz": 300
    },
    "id": "1608ac09-b110-442a-b63a-6315a0544d37",
    "outputId": "3fde680c-1596-4afb-aedb-6585756338f7"
   },
   "outputs": [
    {
     "data": {
      "text/html": [
       "<div>\n",
       "<style scoped>\n",
       "    .dataframe tbody tr th:only-of-type {\n",
       "        vertical-align: middle;\n",
       "    }\n",
       "\n",
       "    .dataframe tbody tr th {\n",
       "        vertical-align: top;\n",
       "    }\n",
       "\n",
       "    .dataframe thead th {\n",
       "        text-align: right;\n",
       "    }\n",
       "</style>\n",
       "<table border=\"1\" class=\"dataframe\">\n",
       "  <thead>\n",
       "    <tr style=\"text-align: right;\">\n",
       "      <th></th>\n",
       "      <th>fecha</th>\n",
       "      <th>co</th>\n",
       "      <th>ciudad</th>\n",
       "      <th>temperatura</th>\n",
       "      <th>depto</th>\n",
       "      <th>consumo</th>\n",
       "      <th>unidades</th>\n",
       "      <th>edad</th>\n",
       "      <th>sexo</th>\n",
       "      <th>tipogranja</th>\n",
       "      <th>peso</th>\n",
       "    </tr>\n",
       "  </thead>\n",
       "  <tbody>\n",
       "    <tr>\n",
       "      <th>0</th>\n",
       "      <td>17/07/2024</td>\n",
       "      <td>E45</td>\n",
       "      <td>Fusagasuga</td>\n",
       "      <td>21</td>\n",
       "      <td>Cundinamarca</td>\n",
       "      <td>695.250000</td>\n",
       "      <td>10057.0</td>\n",
       "      <td>31</td>\n",
       "      <td>machos</td>\n",
       "      <td>MANUAL</td>\n",
       "      <td>1.718</td>\n",
       "    </tr>\n",
       "    <tr>\n",
       "      <th>1</th>\n",
       "      <td>17/07/2024</td>\n",
       "      <td>E45</td>\n",
       "      <td>Fusagasuga</td>\n",
       "      <td>21</td>\n",
       "      <td>Cundinamarca</td>\n",
       "      <td>695.250000</td>\n",
       "      <td>10057.0</td>\n",
       "      <td>31</td>\n",
       "      <td>hembras</td>\n",
       "      <td>MANUAL</td>\n",
       "      <td>1.718</td>\n",
       "    </tr>\n",
       "    <tr>\n",
       "      <th>2</th>\n",
       "      <td>17/07/2024</td>\n",
       "      <td>E45</td>\n",
       "      <td>Fusagasuga</td>\n",
       "      <td>21</td>\n",
       "      <td>Cundinamarca</td>\n",
       "      <td>676.812500</td>\n",
       "      <td>7298.0</td>\n",
       "      <td>31</td>\n",
       "      <td>machos</td>\n",
       "      <td>MANUAL</td>\n",
       "      <td>1.943</td>\n",
       "    </tr>\n",
       "    <tr>\n",
       "      <th>3</th>\n",
       "      <td>17/07/2024</td>\n",
       "      <td>E45</td>\n",
       "      <td>Fusagasuga</td>\n",
       "      <td>21</td>\n",
       "      <td>Cundinamarca</td>\n",
       "      <td>676.812500</td>\n",
       "      <td>7298.0</td>\n",
       "      <td>31</td>\n",
       "      <td>hembras</td>\n",
       "      <td>MANUAL</td>\n",
       "      <td>1.943</td>\n",
       "    </tr>\n",
       "    <tr>\n",
       "      <th>4</th>\n",
       "      <td>17/07/2024</td>\n",
       "      <td>E08</td>\n",
       "      <td>Sasaima</td>\n",
       "      <td>26</td>\n",
       "      <td>Cundinamarca</td>\n",
       "      <td>196.575758</td>\n",
       "      <td>2977.0</td>\n",
       "      <td>32</td>\n",
       "      <td>hembras</td>\n",
       "      <td>MANUAL</td>\n",
       "      <td>1.598</td>\n",
       "    </tr>\n",
       "    <tr>\n",
       "      <th>...</th>\n",
       "      <td>...</td>\n",
       "      <td>...</td>\n",
       "      <td>...</td>\n",
       "      <td>...</td>\n",
       "      <td>...</td>\n",
       "      <td>...</td>\n",
       "      <td>...</td>\n",
       "      <td>...</td>\n",
       "      <td>...</td>\n",
       "      <td>...</td>\n",
       "      <td>...</td>\n",
       "    </tr>\n",
       "    <tr>\n",
       "      <th>1752</th>\n",
       "      <td>17/10/2024</td>\n",
       "      <td>E25</td>\n",
       "      <td>Restrepo</td>\n",
       "      <td>29</td>\n",
       "      <td>Meta</td>\n",
       "      <td>577.322581</td>\n",
       "      <td>7521.0</td>\n",
       "      <td>30</td>\n",
       "      <td>machos</td>\n",
       "      <td>MANUAL</td>\n",
       "      <td>1.817</td>\n",
       "    </tr>\n",
       "    <tr>\n",
       "      <th>1753</th>\n",
       "      <td>17/10/2024</td>\n",
       "      <td>E25</td>\n",
       "      <td>Restrepo</td>\n",
       "      <td>29</td>\n",
       "      <td>Meta</td>\n",
       "      <td>577.322581</td>\n",
       "      <td>7521.0</td>\n",
       "      <td>30</td>\n",
       "      <td>hembras</td>\n",
       "      <td>MANUAL</td>\n",
       "      <td>1.817</td>\n",
       "    </tr>\n",
       "    <tr>\n",
       "      <th>1754</th>\n",
       "      <td>17/10/2024</td>\n",
       "      <td>E25</td>\n",
       "      <td>Restrepo</td>\n",
       "      <td>29</td>\n",
       "      <td>Meta</td>\n",
       "      <td>577.322581</td>\n",
       "      <td>7521.0</td>\n",
       "      <td>30</td>\n",
       "      <td>hembras</td>\n",
       "      <td>MANUAL</td>\n",
       "      <td>1.817</td>\n",
       "    </tr>\n",
       "    <tr>\n",
       "      <th>1755</th>\n",
       "      <td>17/10/2024</td>\n",
       "      <td>E25</td>\n",
       "      <td>Restrepo</td>\n",
       "      <td>29</td>\n",
       "      <td>Meta</td>\n",
       "      <td>577.322581</td>\n",
       "      <td>7521.0</td>\n",
       "      <td>30</td>\n",
       "      <td>hembras</td>\n",
       "      <td>MANUAL</td>\n",
       "      <td>1.817</td>\n",
       "    </tr>\n",
       "    <tr>\n",
       "      <th>1756</th>\n",
       "      <td>17/10/2024</td>\n",
       "      <td>E25</td>\n",
       "      <td>Restrepo</td>\n",
       "      <td>29</td>\n",
       "      <td>Meta</td>\n",
       "      <td>577.322581</td>\n",
       "      <td>7521.0</td>\n",
       "      <td>30</td>\n",
       "      <td>hembras</td>\n",
       "      <td>MANUAL</td>\n",
       "      <td>1.817</td>\n",
       "    </tr>\n",
       "  </tbody>\n",
       "</table>\n",
       "<p>1757 rows × 11 columns</p>\n",
       "</div>"
      ],
      "text/plain": [
       "           fecha   co      ciudad  temperatura         depto     consumo  \\\n",
       "0     17/07/2024  E45  Fusagasuga           21  Cundinamarca  695.250000   \n",
       "1     17/07/2024  E45  Fusagasuga           21  Cundinamarca  695.250000   \n",
       "2     17/07/2024  E45  Fusagasuga           21  Cundinamarca  676.812500   \n",
       "3     17/07/2024  E45  Fusagasuga           21  Cundinamarca  676.812500   \n",
       "4     17/07/2024  E08     Sasaima           26  Cundinamarca  196.575758   \n",
       "...          ...  ...         ...          ...           ...         ...   \n",
       "1752  17/10/2024  E25    Restrepo           29          Meta  577.322581   \n",
       "1753  17/10/2024  E25    Restrepo           29          Meta  577.322581   \n",
       "1754  17/10/2024  E25    Restrepo           29          Meta  577.322581   \n",
       "1755  17/10/2024  E25    Restrepo           29          Meta  577.322581   \n",
       "1756  17/10/2024  E25    Restrepo           29          Meta  577.322581   \n",
       "\n",
       "      unidades  edad     sexo tipogranja   peso  \n",
       "0      10057.0    31   machos     MANUAL  1.718  \n",
       "1      10057.0    31  hembras     MANUAL  1.718  \n",
       "2       7298.0    31   machos     MANUAL  1.943  \n",
       "3       7298.0    31  hembras     MANUAL  1.943  \n",
       "4       2977.0    32  hembras     MANUAL  1.598  \n",
       "...        ...   ...      ...        ...    ...  \n",
       "1752    7521.0    30   machos     MANUAL  1.817  \n",
       "1753    7521.0    30  hembras     MANUAL  1.817  \n",
       "1754    7521.0    30  hembras     MANUAL  1.817  \n",
       "1755    7521.0    30  hembras     MANUAL  1.817  \n",
       "1756    7521.0    30  hembras     MANUAL  1.817  \n",
       "\n",
       "[1757 rows x 11 columns]"
      ]
     },
     "execution_count": 82,
     "metadata": {},
     "output_type": "execute_result"
    }
   ],
   "source": [
    "df"
   ]
  },
  {
   "cell_type": "markdown",
   "metadata": {
    "id": "2157e62f-162e-4099-86f3-d426e361fe8e"
   },
   "source": [
    "# General stats cells"
   ]
  },
  {
   "cell_type": "code",
   "execution_count": 83,
   "metadata": {
    "colab": {
     "base_uri": "https://localhost:8080/",
     "height": 300
    },
    "executionInfo": {
     "elapsed": 20,
     "status": "ok",
     "timestamp": 1729633302782,
     "user": {
      "displayName": "Julian mendoza",
      "userId": "05731547993991985363"
     },
     "user_tz": 300
    },
    "id": "ede1beda-ee6e-428d-ba53-612f2abb0dde",
    "outputId": "0a5e667e-f9bd-4630-bb42-aeef0e8fdb6c"
   },
   "outputs": [
    {
     "data": {
      "text/html": [
       "<div>\n",
       "<style scoped>\n",
       "    .dataframe tbody tr th:only-of-type {\n",
       "        vertical-align: middle;\n",
       "    }\n",
       "\n",
       "    .dataframe tbody tr th {\n",
       "        vertical-align: top;\n",
       "    }\n",
       "\n",
       "    .dataframe thead th {\n",
       "        text-align: right;\n",
       "    }\n",
       "</style>\n",
       "<table border=\"1\" class=\"dataframe\">\n",
       "  <thead>\n",
       "    <tr style=\"text-align: right;\">\n",
       "      <th></th>\n",
       "      <th>temperatura</th>\n",
       "      <th>consumo</th>\n",
       "      <th>unidades</th>\n",
       "      <th>edad</th>\n",
       "      <th>peso</th>\n",
       "    </tr>\n",
       "  </thead>\n",
       "  <tbody>\n",
       "    <tr>\n",
       "      <th>count</th>\n",
       "      <td>1757.000000</td>\n",
       "      <td>1757.000000</td>\n",
       "      <td>1757.000000</td>\n",
       "      <td>1757.000000</td>\n",
       "      <td>1757.000000</td>\n",
       "    </tr>\n",
       "    <tr>\n",
       "      <th>mean</th>\n",
       "      <td>25.105293</td>\n",
       "      <td>1012.022232</td>\n",
       "      <td>10074.742266</td>\n",
       "      <td>30.896414</td>\n",
       "      <td>1.735418</td>\n",
       "    </tr>\n",
       "    <tr>\n",
       "      <th>std</th>\n",
       "      <td>5.577857</td>\n",
       "      <td>2472.231794</td>\n",
       "      <td>8743.540596</td>\n",
       "      <td>4.896023</td>\n",
       "      <td>0.413089</td>\n",
       "    </tr>\n",
       "    <tr>\n",
       "      <th>min</th>\n",
       "      <td>12.000000</td>\n",
       "      <td>-0.736842</td>\n",
       "      <td>6.161000</td>\n",
       "      <td>5.000000</td>\n",
       "      <td>0.155000</td>\n",
       "    </tr>\n",
       "    <tr>\n",
       "      <th>25%</th>\n",
       "      <td>23.000000</td>\n",
       "      <td>444.517241</td>\n",
       "      <td>6957.000000</td>\n",
       "      <td>28.000000</td>\n",
       "      <td>1.553000</td>\n",
       "    </tr>\n",
       "    <tr>\n",
       "      <th>50%</th>\n",
       "      <td>23.000000</td>\n",
       "      <td>554.451613</td>\n",
       "      <td>7521.000000</td>\n",
       "      <td>31.000000</td>\n",
       "      <td>1.760000</td>\n",
       "    </tr>\n",
       "    <tr>\n",
       "      <th>75%</th>\n",
       "      <td>29.000000</td>\n",
       "      <td>714.625000</td>\n",
       "      <td>10686.000000</td>\n",
       "      <td>33.000000</td>\n",
       "      <td>1.929000</td>\n",
       "    </tr>\n",
       "    <tr>\n",
       "      <th>max</th>\n",
       "      <td>34.000000</td>\n",
       "      <td>22939.926190</td>\n",
       "      <td>123412.000000</td>\n",
       "      <td>45.000000</td>\n",
       "      <td>7.000000</td>\n",
       "    </tr>\n",
       "  </tbody>\n",
       "</table>\n",
       "</div>"
      ],
      "text/plain": [
       "       temperatura       consumo       unidades         edad         peso\n",
       "count  1757.000000   1757.000000    1757.000000  1757.000000  1757.000000\n",
       "mean     25.105293   1012.022232   10074.742266    30.896414     1.735418\n",
       "std       5.577857   2472.231794    8743.540596     4.896023     0.413089\n",
       "min      12.000000     -0.736842       6.161000     5.000000     0.155000\n",
       "25%      23.000000    444.517241    6957.000000    28.000000     1.553000\n",
       "50%      23.000000    554.451613    7521.000000    31.000000     1.760000\n",
       "75%      29.000000    714.625000   10686.000000    33.000000     1.929000\n",
       "max      34.000000  22939.926190  123412.000000    45.000000     7.000000"
      ]
     },
     "execution_count": 83,
     "metadata": {},
     "output_type": "execute_result"
    }
   ],
   "source": [
    "df.describe()"
   ]
  },
  {
   "cell_type": "code",
   "execution_count": 84,
   "metadata": {
    "colab": {
     "base_uri": "https://localhost:8080/",
     "height": 429
    },
    "executionInfo": {
     "elapsed": 18,
     "status": "ok",
     "timestamp": 1729633302782,
     "user": {
      "displayName": "Julian mendoza",
      "userId": "05731547993991985363"
     },
     "user_tz": 300
    },
    "id": "c28b4022-3a58-4076-967f-7e8a37962885",
    "outputId": "35f5871b-f19b-4015-e948-edc18dfe089b"
   },
   "outputs": [
    {
     "data": {
      "text/plain": [
       "fecha           object\n",
       "co              object\n",
       "ciudad          object\n",
       "temperatura      int64\n",
       "depto           object\n",
       "consumo        float64\n",
       "unidades       float64\n",
       "edad             int64\n",
       "sexo            object\n",
       "tipogranja      object\n",
       "peso           float64\n",
       "dtype: object"
      ]
     },
     "execution_count": 84,
     "metadata": {},
     "output_type": "execute_result"
    }
   ],
   "source": [
    "df.dtypes\n"
   ]
  },
  {
   "cell_type": "code",
   "execution_count": 85,
   "metadata": {
    "colab": {
     "base_uri": "https://localhost:8080/"
    },
    "executionInfo": {
     "elapsed": 16,
     "status": "ok",
     "timestamp": 1729633302782,
     "user": {
      "displayName": "Julian mendoza",
      "userId": "05731547993991985363"
     },
     "user_tz": 300
    },
    "id": "0a686c1c-9b02-416d-933a-101ba3a23c19",
    "outputId": "3c8c131e-cc56-415f-c7a7-48a5ad8cecd7"
   },
   "outputs": [
    {
     "name": "stdout",
     "output_type": "stream",
     "text": [
      "<class 'pandas.core.frame.DataFrame'>\n",
      "RangeIndex: 1757 entries, 0 to 1756\n",
      "Data columns (total 11 columns):\n",
      " #   Column       Non-Null Count  Dtype  \n",
      "---  ------       --------------  -----  \n",
      " 0   fecha        1757 non-null   object \n",
      " 1   co           1757 non-null   object \n",
      " 2   ciudad       1757 non-null   object \n",
      " 3   temperatura  1757 non-null   int64  \n",
      " 4   depto        1757 non-null   object \n",
      " 5   consumo      1757 non-null   float64\n",
      " 6   unidades     1757 non-null   float64\n",
      " 7   edad         1757 non-null   int64  \n",
      " 8   sexo         1757 non-null   object \n",
      " 9   tipogranja   1757 non-null   object \n",
      " 10  peso         1757 non-null   float64\n",
      "dtypes: float64(3), int64(2), object(6)\n",
      "memory usage: 151.1+ KB\n"
     ]
    }
   ],
   "source": [
    "df.info()"
   ]
  },
  {
   "cell_type": "code",
   "execution_count": 86,
   "metadata": {
    "colab": {
     "base_uri": "https://localhost:8080/"
    },
    "executionInfo": {
     "elapsed": 346,
     "status": "ok",
     "timestamp": 1729633303117,
     "user": {
      "displayName": "Julian mendoza",
      "userId": "05731547993991985363"
     },
     "user_tz": 300
    },
    "id": "50baa666-bc29-482a-a7cb-e764726de074",
    "outputId": "5a88056f-3a40-489c-822d-5294c00f977a"
   },
   "outputs": [
    {
     "name": "stdout",
     "output_type": "stream",
     "text": [
      "recuento de columnas por tipo:  object     6\n",
      "float64    3\n",
      "int64      2\n",
      "Name: count, dtype: int64\n",
      "sumatoria de valores nulos en el dataframe:  fecha          0\n",
      "co             0\n",
      "ciudad         0\n",
      "temperatura    0\n",
      "depto          0\n",
      "consumo        0\n",
      "unidades       0\n",
      "edad           0\n",
      "sexo           0\n",
      "tipogranja     0\n",
      "peso           0\n",
      "dtype: int64\n"
     ]
    }
   ],
   "source": [
    "print('recuento de columnas por tipo: ', df.dtypes.value_counts())\n",
    "print('sumatoria de valores nulos en el dataframe: ', df.isna().sum())"
   ]
  },
  {
   "cell_type": "markdown",
   "metadata": {
    "id": "6fb561f5-dd2d-417a-a545-2bbba562c649"
   },
   "source": [
    "# General Analyst by columns"
   ]
  },
  {
   "cell_type": "markdown",
   "metadata": {
    "id": "17181449-08a7-4715-8013-a6295e755ed8"
   },
   "source": [
    "## fecha\n",
    "type: object"
   ]
  },
  {
   "cell_type": "code",
   "execution_count": 87,
   "metadata": {
    "colab": {
     "base_uri": "https://localhost:8080/"
    },
    "executionInfo": {
     "elapsed": 45,
     "status": "ok",
     "timestamp": 1729633303117,
     "user": {
      "displayName": "Julian mendoza",
      "userId": "05731547993991985363"
     },
     "user_tz": 300
    },
    "id": "adf8ab28-e1cf-4a26-b4cf-4a6396a75a37",
    "outputId": "ee1b13a9-d3c4-4486-9029-bd8ae0ee367d"
   },
   "outputs": [
    {
     "name": "stderr",
     "output_type": "stream",
     "text": [
      "C:\\Users\\Public\\Documents\\Wondershare\\CreatorTemp\\ipykernel_28884\\1855218371.py:1: UserWarning: Parsing dates in %d/%m/%Y format when dayfirst=False (the default) was specified. Pass `dayfirst=True` or specify a format to silence this warning.\n",
      "  df['fecha'] = pd.to_datetime(df[f'fecha'], errors='coerce')\n"
     ]
    }
   ],
   "source": [
    "df['fecha'] = pd.to_datetime(df[f'fecha'], errors='coerce')"
   ]
  },
  {
   "cell_type": "code",
   "execution_count": 88,
   "metadata": {
    "colab": {
     "base_uri": "https://localhost:8080/"
    },
    "executionInfo": {
     "elapsed": 35,
     "status": "ok",
     "timestamp": 1729633303117,
     "user": {
      "displayName": "Julian mendoza",
      "userId": "05731547993991985363"
     },
     "user_tz": 300
    },
    "id": "ed546360-b83e-41af-b19f-0e763fbfa1f4",
    "outputId": "90b43f63-e85f-47a0-d0d2-ada79451fe92"
   },
   "outputs": [
    {
     "name": "stdout",
     "output_type": "stream",
     "text": [
      "la columna fecha es:  datetime64[ns]\n"
     ]
    }
   ],
   "source": [
    "print('la columna fecha es: ',df[f'fecha'].dtype)"
   ]
  },
  {
   "cell_type": "markdown",
   "metadata": {
    "id": "efa5c318-7aae-4533-8b2c-e6a8c78de2bc"
   },
   "source": [
    "## co\n",
    "type: object"
   ]
  },
  {
   "cell_type": "code",
   "execution_count": 89,
   "metadata": {
    "colab": {
     "base_uri": "https://localhost:8080/"
    },
    "executionInfo": {
     "elapsed": 28,
     "status": "ok",
     "timestamp": 1729633303118,
     "user": {
      "displayName": "Julian mendoza",
      "userId": "05731547993991985363"
     },
     "user_tz": 300
    },
    "id": "8da1d040-eea1-4731-9be8-15a22bdab40f",
    "outputId": "d33fcc03-4375-48b0-9da3-91a05854fffa"
   },
   "outputs": [
    {
     "data": {
      "text/plain": [
       "array(['E45', 'E08', 'E24', 'E33', 'E25', 'E76', 'E27', 'E89', 'E11',\n",
       "       'E55', 'E95', 'E77', 'E10', 'E19', 'F01', 'F03', 'E74', 'E37',\n",
       "       'E46', 'EA6', 'E38', 'E32', 'E09', 'E56', 'E20', 'E40', 'E93',\n",
       "       'E14', 'E90', 'F02', 'E34', 'E02', 'E30', 'E72', 'E36', 'E61',\n",
       "       'E60', 'F04', 'E13', 'E87', 'E05', 'E31', 'E59', 'E29'],\n",
       "      dtype=object)"
      ]
     },
     "execution_count": 89,
     "metadata": {},
     "output_type": "execute_result"
    }
   ],
   "source": [
    "df['co'] = df['co'].astype(str)\n",
    "df['co'] = df['co'].str.replace('.0','')\n",
    "df['co'].unique()"
   ]
  },
  {
   "cell_type": "code",
   "execution_count": 90,
   "metadata": {
    "colab": {
     "base_uri": "https://localhost:8080/",
     "height": 1000
    },
    "executionInfo": {
     "elapsed": 16,
     "status": "ok",
     "timestamp": 1729633303118,
     "user": {
      "displayName": "Julian mendoza",
      "userId": "05731547993991985363"
     },
     "user_tz": 300
    },
    "id": "00ba8da2-9346-42b5-9dcc-5c741c9cabb5",
    "outputId": "84e1cab4-7690-4efb-fafd-e71ae960d5ad"
   },
   "outputs": [
    {
     "data": {
      "text/plain": [
       "co\n",
       "E25    356\n",
       "E90    148\n",
       "E77    124\n",
       "EA6    112\n",
       "E19     65\n",
       "E37     64\n",
       "E74     56\n",
       "E27     54\n",
       "E09     53\n",
       "E89     53\n",
       "E38     42\n",
       "E46     42\n",
       "E29     39\n",
       "E30     37\n",
       "E95     36\n",
       "E32     36\n",
       "E08     35\n",
       "E93     33\n",
       "E33     33\n",
       "E20     32\n",
       "E24     31\n",
       "E11     29\n",
       "E34     26\n",
       "E60     22\n",
       "F04     20\n",
       "E45     20\n",
       "E59     16\n",
       "E76     14\n",
       "E55     13\n",
       "E56     13\n",
       "F02     12\n",
       "E02     12\n",
       "F03     12\n",
       "E40     10\n",
       "E72     10\n",
       "E13      9\n",
       "E10      8\n",
       "F01      8\n",
       "E87      6\n",
       "E14      4\n",
       "E61      4\n",
       "E05      3\n",
       "E31      3\n",
       "E36      2\n",
       "Name: count, dtype: int64"
      ]
     },
     "execution_count": 90,
     "metadata": {},
     "output_type": "execute_result"
    }
   ],
   "source": [
    "df['co'].value_counts()"
   ]
  },
  {
   "cell_type": "code",
   "execution_count": 91,
   "metadata": {
    "colab": {
     "base_uri": "https://localhost:8080/",
     "height": 440
    },
    "executionInfo": {
     "elapsed": 764,
     "status": "ok",
     "timestamp": 1729633303869,
     "user": {
      "displayName": "Julian mendoza",
      "userId": "05731547993991985363"
     },
     "user_tz": 300
    },
    "id": "d7bf094f-f55e-444e-a214-8f2586058faa",
    "outputId": "03f5975b-464f-47c4-c15b-466c25a0fef8"
   },
   "outputs": [
    {
     "data": {
      "text/plain": [
       "<Axes: ylabel='count'>"
      ]
     },
     "execution_count": 91,
     "metadata": {},
     "output_type": "execute_result"
    },
    {
     "data": {
      "image/png": "[encoded data removed]",
      "text/plain": [
       "<Figure size 1000x500 with 1 Axes>"
      ]
     },
     "metadata": {},
     "output_type": "display_data"
    }
   ],
   "source": [
    "plt.figure(figsize=(10,5))\n",
    "df['co'].value_counts()[:15].plot(kind='pie')"
   ]
  },
  {
   "cell_type": "code",
   "execution_count": 92,
   "metadata": {
    "colab": {
     "base_uri": "https://localhost:8080/",
     "height": 459
    },
    "executionInfo": {
     "elapsed": 857,
     "status": "ok",
     "timestamp": 1729633304718,
     "user": {
      "displayName": "Julian mendoza",
      "userId": "05731547993991985363"
     },
     "user_tz": 300
    },
    "id": "6b239e81-c66f-4147-b9b0-8f86ccc4f345",
    "outputId": "a97166f0-cb51-482f-8461-7beed156f87e"
   },
   "outputs": [
    {
     "data": {
      "text/plain": [
       "<Axes: ylabel='co'>"
      ]
     },
     "execution_count": 92,
     "metadata": {},
     "output_type": "execute_result"
    },
    {
     "data": {
      "image/png": "[encoded data removed]",
      "text/plain": [
       "<Figure size 3000x500 with 1 Axes>"
      ]
     },
     "metadata": {},
     "output_type": "display_data"
    }
   ],
   "source": [
    "plt.figure(figsize=(30,5))\n",
    "df['co'].value_counts()[:15].plot(kind='barh')"
   ]
  },
  {
   "cell_type": "markdown",
   "metadata": {
    "id": "fd0f92d9-ea96-4e53-b04b-2127b40ddf1c"
   },
   "source": [
    "## ciudad\n",
    "type: object"
   ]
  },
  {
   "cell_type": "code",
   "execution_count": 93,
   "metadata": {
    "colab": {
     "base_uri": "https://localhost:8080/"
    },
    "executionInfo": {
     "elapsed": 24,
     "status": "ok",
     "timestamp": 1729633304719,
     "user": {
      "displayName": "Julian mendoza",
      "userId": "05731547993991985363"
     },
     "user_tz": 300
    },
    "id": "63bbe30f-4cf9-4cfb-96f2-72f6f4ab5e91",
    "outputId": "736cd765-eee0-4d1c-f998-fce36e278bda"
   },
   "outputs": [
    {
     "data": {
      "text/plain": [
       "array(['Fusagasuga', 'Sasaima', 'Arbelaez', 'Restrepo', 'Cabuyaro',\n",
       "       'Cumaral', 'Granada', 'Paratebueno', 'Silvania', 'Facatativa',\n",
       "       'Nilo', 'La Mesa', 'Villeta                        ',\n",
       "       'La Vega                        '], dtype=object)"
      ]
     },
     "execution_count": 93,
     "metadata": {},
     "output_type": "execute_result"
    }
   ],
   "source": [
    "df['ciudad'] = df['ciudad'].astype(str)\n",
    "df['ciudad'] = df['ciudad'].str.replace('.0','')\n",
    "df['ciudad'].unique()"
   ]
  },
  {
   "cell_type": "code",
   "execution_count": 94,
   "metadata": {
    "colab": {
     "base_uri": "https://localhost:8080/",
     "height": 554
    },
    "executionInfo": {
     "elapsed": 20,
     "status": "ok",
     "timestamp": 1729633304719,
     "user": {
      "displayName": "Julian mendoza",
      "userId": "05731547993991985363"
     },
     "user_tz": 300
    },
    "id": "f4ef71af-d71b-4a23-91d2-e5bcdea81bf2",
    "outputId": "580ab87c-a42e-440f-8789-d9765b71f15e"
   },
   "outputs": [
    {
     "data": {
      "text/plain": [
       "ciudad\n",
       "Restrepo                           356\n",
       "Silvania                           236\n",
       "Arbelaez                           232\n",
       "Fusagasuga                         225\n",
       "Cumaral                            142\n",
       "Sasaima                            125\n",
       "Facatativa                         112\n",
       "Granada                             97\n",
       "Cabuyaro                            81\n",
       "Paratebueno                         74\n",
       "Nilo                                49\n",
       "La Mesa                             13\n",
       "Villeta                             12\n",
       "La Vega                              3\n",
       "Name: count, dtype: int64"
      ]
     },
     "execution_count": 94,
     "metadata": {},
     "output_type": "execute_result"
    }
   ],
   "source": [
    "df['ciudad'].value_counts()"
   ]
  },
  {
   "cell_type": "code",
   "execution_count": 95,
   "metadata": {
    "colab": {
     "base_uri": "https://localhost:8080/",
     "height": 440
    },
    "executionInfo": {
     "elapsed": 819,
     "status": "ok",
     "timestamp": 1729633305523,
     "user": {
      "displayName": "Julian mendoza",
      "userId": "05731547993991985363"
     },
     "user_tz": 300
    },
    "id": "751b8ce6-4723-467b-b1b3-56df2ded54f5",
    "outputId": "9191118e-87ec-4fd6-bad9-0c9ac5892d0b"
   },
   "outputs": [
    {
     "data": {
      "text/plain": [
       "<Axes: ylabel='count'>"
      ]
     },
     "execution_count": 95,
     "metadata": {},
     "output_type": "execute_result"
    },
    {
     "data": {
      "image/png": "[encoded data removed]",
      "text/plain": [
       "<Figure size 1000x500 with 1 Axes>"
      ]
     },
     "metadata": {},
     "output_type": "display_data"
    }
   ],
   "source": [
    "plt.figure(figsize=(10,5))\n",
    "df['ciudad'].value_counts()[:15].plot(kind='pie')"
   ]
  },
  {
   "cell_type": "code",
   "execution_count": 96,
   "metadata": {
    "colab": {
     "base_uri": "https://localhost:8080/",
     "height": 459
    },
    "executionInfo": {
     "elapsed": 1000,
     "status": "ok",
     "timestamp": 1729633306502,
     "user": {
      "displayName": "Julian mendoza",
      "userId": "05731547993991985363"
     },
     "user_tz": 300
    },
    "id": "ff27b686-2d9b-4035-bc75-5a4ba1bb7ae3",
    "outputId": "3cd049c8-f2ae-4550-8fbe-289486b0531b"
   },
   "outputs": [
    {
     "data": {
      "text/plain": [
       "<Axes: ylabel='ciudad'>"
      ]
     },
     "execution_count": 96,
     "metadata": {},
     "output_type": "execute_result"
    },
    {
     "data": {
      "image/png": "[encoded data removed]",
      "text/plain": [
       "<Figure size 3000x500 with 1 Axes>"
      ]
     },
     "metadata": {},
     "output_type": "display_data"
    }
   ],
   "source": [
    "plt.figure(figsize=(30,5))\n",
    "df['ciudad'].value_counts()[:15].plot(kind='barh')"
   ]
  },
  {
   "cell_type": "markdown",
   "metadata": {
    "id": "c80059b5-8b0b-4b96-857e-cb37f9d8bf76"
   },
   "source": [
    "## temperatura\n",
    "type: int64"
   ]
  },
  {
   "cell_type": "code",
   "execution_count": 97,
   "metadata": {
    "executionInfo": {
     "elapsed": 21,
     "status": "ok",
     "timestamp": 1729633306503,
     "user": {
      "displayName": "Julian mendoza",
      "userId": "05731547993991985363"
     },
     "user_tz": 300
    },
    "id": "0e24c243-3a93-4dcb-a5eb-21941f053c89"
   },
   "outputs": [],
   "source": [
    "df['temperatura'] = df['temperatura'].astype(str)"
   ]
  },
  {
   "cell_type": "code",
   "execution_count": 98,
   "metadata": {
    "executionInfo": {
     "elapsed": 20,
     "status": "ok",
     "timestamp": 1729633306503,
     "user": {
      "displayName": "Julian mendoza",
      "userId": "05731547993991985363"
     },
     "user_tz": 300
    },
    "id": "0c5a10d9-16fd-4ae9-8361-ee0867e90376"
   },
   "outputs": [],
   "source": [
    "df['temperatura'] = df['temperatura'].str.replace('.0','')"
   ]
  },
  {
   "cell_type": "code",
   "execution_count": 99,
   "metadata": {
    "colab": {
     "base_uri": "https://localhost:8080/"
    },
    "executionInfo": {
     "elapsed": 19,
     "status": "ok",
     "timestamp": 1729633306503,
     "user": {
      "displayName": "Julian mendoza",
      "userId": "05731547993991985363"
     },
     "user_tz": 300
    },
    "id": "d8464eb0-77f1-496e-ace4-372e96ac3447",
    "outputId": "ca083f4e-f85a-485c-e1a9-ed335a3a0db2"
   },
   "outputs": [
    {
     "data": {
      "text/plain": [
       "array(['21', '26', '23', '29', '34', '30', '18', '12', '32', '28', '27'],\n",
       "      dtype=object)"
      ]
     },
     "execution_count": 99,
     "metadata": {},
     "output_type": "execute_result"
    }
   ],
   "source": [
    "df['temperatura'].unique()"
   ]
  },
  {
   "cell_type": "code",
   "execution_count": 100,
   "metadata": {
    "colab": {
     "base_uri": "https://localhost:8080/",
     "height": 460
    },
    "executionInfo": {
     "elapsed": 16,
     "status": "ok",
     "timestamp": 1729633306503,
     "user": {
      "displayName": "Julian mendoza",
      "userId": "05731547993991985363"
     },
     "user_tz": 300
    },
    "id": "30339c8a-5ce3-4a1a-9619-1ae302078899",
    "outputId": "d19646f8-f9c5-4b64-fc81-0833ed518b99"
   },
   "outputs": [
    {
     "data": {
      "text/plain": [
       "temperatura\n",
       "23    468\n",
       "29    356\n",
       "21    225\n",
       "34    168\n",
       "30    142\n",
       "26    125\n",
       "12    112\n",
       "18     97\n",
       "32     49\n",
       "28     12\n",
       "27      3\n",
       "Name: count, dtype: int64"
      ]
     },
     "execution_count": 100,
     "metadata": {},
     "output_type": "execute_result"
    }
   ],
   "source": [
    "df['temperatura'].value_counts()"
   ]
  },
  {
   "cell_type": "code",
   "execution_count": 101,
   "metadata": {
    "colab": {
     "base_uri": "https://localhost:8080/",
     "height": 440
    },
    "executionInfo": {
     "elapsed": 270,
     "status": "ok",
     "timestamp": 1729633306760,
     "user": {
      "displayName": "Julian mendoza",
      "userId": "05731547993991985363"
     },
     "user_tz": 300
    },
    "id": "a9c9b5cf-a463-4b09-b2d7-4c128cd1a108",
    "outputId": "fd44d42f-4614-488b-dd75-67ec1a666312"
   },
   "outputs": [
    {
     "data": {
      "text/plain": [
       "<Axes: ylabel='count'>"
      ]
     },
     "execution_count": 101,
     "metadata": {},
     "output_type": "execute_result"
    },
    {
     "data": {
      "image/png": "[encoded data removed]",
      "text/plain": [
       "<Figure size 1000x500 with 1 Axes>"
      ]
     },
     "metadata": {},
     "output_type": "display_data"
    }
   ],
   "source": [
    "plt.figure(figsize=(10,5))\n",
    "df['temperatura'].value_counts()[:15].plot(kind='pie')"
   ]
  },
  {
   "cell_type": "code",
   "execution_count": 102,
   "metadata": {
    "colab": {
     "base_uri": "https://localhost:8080/",
     "height": 1000
    },
    "executionInfo": {
     "elapsed": 1058,
     "status": "ok",
     "timestamp": 1729633307811,
     "user": {
      "displayName": "Julian mendoza",
      "userId": "05731547993991985363"
     },
     "user_tz": 300
    },
    "id": "3e338ab4-8158-43b2-a1bc-35bfb29f455e",
    "outputId": "60cfb7bc-7ba5-451d-e54b-81dd0c710727"
   },
   "outputs": [
    {
     "data": {
      "text/plain": [
       "<Axes: ylabel='temperatura'>"
      ]
     },
     "execution_count": 102,
     "metadata": {},
     "output_type": "execute_result"
    },
    {
     "data": {
      "image/png": "[encoded data removed]",
      "text/plain": [
       "<Figure size 3000x1500 with 1 Axes>"
      ]
     },
     "metadata": {},
     "output_type": "display_data"
    }
   ],
   "source": [
    "plt.figure(figsize=(30,15))\n",
    "df['temperatura'].value_counts()[:15].plot(kind='barh')"
   ]
  },
  {
   "cell_type": "markdown",
   "metadata": {
    "id": "0747ed85-d040-4d0b-91bd-b564dc7bdaef"
   },
   "source": [
    "## depto\n",
    "type: object"
   ]
  },
  {
   "cell_type": "code",
   "execution_count": 103,
   "metadata": {
    "colab": {
     "base_uri": "https://localhost:8080/"
    },
    "executionInfo": {
     "elapsed": 26,
     "status": "ok",
     "timestamp": 1729633307811,
     "user": {
      "displayName": "Julian mendoza",
      "userId": "05731547993991985363"
     },
     "user_tz": 300
    },
    "id": "0dbdf11c-9a3e-49f6-8fa3-d76e1cc08d24",
    "outputId": "1678e4f6-825c-4904-9ed2-d881a3a47dde"
   },
   "outputs": [
    {
     "data": {
      "text/plain": [
       "array(['Cundinamarca', 'Meta'], dtype=object)"
      ]
     },
     "execution_count": 103,
     "metadata": {},
     "output_type": "execute_result"
    }
   ],
   "source": [
    "df['depto'] = df['depto'].astype(str)\n",
    "df['depto'] = df['depto'].str.replace('.0','')\n",
    "df['depto'].unique()"
   ]
  },
  {
   "cell_type": "code",
   "execution_count": 104,
   "metadata": {
    "colab": {
     "base_uri": "https://localhost:8080/",
     "height": 178
    },
    "executionInfo": {
     "elapsed": 20,
     "status": "ok",
     "timestamp": 1729633307812,
     "user": {
      "displayName": "Julian mendoza",
      "userId": "05731547993991985363"
     },
     "user_tz": 300
    },
    "id": "d03b1b8e-8f2e-4c1c-859e-8b4eda6af0a8",
    "outputId": "40501cdd-1001-4b88-8f98-81f4c40aca2b"
   },
   "outputs": [
    {
     "data": {
      "text/plain": [
       "depto\n",
       "Cundinamarca    1178\n",
       "Meta             579\n",
       "Name: count, dtype: int64"
      ]
     },
     "execution_count": 104,
     "metadata": {},
     "output_type": "execute_result"
    }
   ],
   "source": [
    "df['depto'].value_counts()"
   ]
  },
  {
   "cell_type": "code",
   "execution_count": 105,
   "metadata": {
    "colab": {
     "base_uri": "https://localhost:8080/",
     "height": 440
    },
    "executionInfo": {
     "elapsed": 307,
     "status": "ok",
     "timestamp": 1729633308102,
     "user": {
      "displayName": "Julian mendoza",
      "userId": "05731547993991985363"
     },
     "user_tz": 300
    },
    "id": "e29996e7-9a95-459d-bd05-2a7d6c0d085d",
    "outputId": "d8ca90ce-d448-4079-9918-7712fad3656d"
   },
   "outputs": [
    {
     "data": {
      "text/plain": [
       "<Axes: ylabel='count'>"
      ]
     },
     "execution_count": 105,
     "metadata": {},
     "output_type": "execute_result"
    },
    {
     "data": {
      "image/png": "[encoded data removed]",
      "text/plain": [
       "<Figure size 1000x500 with 1 Axes>"
      ]
     },
     "metadata": {},
     "output_type": "display_data"
    }
   ],
   "source": [
    "plt.figure(figsize=(10,5))\n",
    "df['depto'].value_counts()[:15].plot(kind='pie')"
   ]
  },
  {
   "cell_type": "code",
   "execution_count": 106,
   "metadata": {
    "colab": {
     "base_uri": "https://localhost:8080/",
     "height": 459
    },
    "executionInfo": {
     "elapsed": 283,
     "status": "ok",
     "timestamp": 1729633308375,
     "user": {
      "displayName": "Julian mendoza",
      "userId": "05731547993991985363"
     },
     "user_tz": 300
    },
    "id": "9a196fda-6261-4565-9e98-9a2236e338e5",
    "outputId": "dd5b9fe4-3c0e-4875-a754-922bb8683f85"
   },
   "outputs": [
    {
     "data": {
      "text/plain": [
       "<Axes: ylabel='depto'>"
      ]
     },
     "execution_count": 106,
     "metadata": {},
     "output_type": "execute_result"
    },
    {
     "data": {
      "image/png": "[encoded data removed]",
      "text/plain": [
       "<Figure size 3000x500 with 1 Axes>"
      ]
     },
     "metadata": {},
     "output_type": "display_data"
    }
   ],
   "source": [
    "plt.figure(figsize=(30,5))\n",
    "df['depto'].value_counts()[:15].plot(kind='barh')"
   ]
  },
  {
   "cell_type": "markdown",
   "metadata": {
    "id": "3d6cc14c-25cd-4919-bbc4-5a55f385c498"
   },
   "source": [
    "## consumo\n",
    "type: float64"
   ]
  },
  {
   "cell_type": "code",
   "execution_count": 107,
   "metadata": {
    "executionInfo": {
     "elapsed": 639,
     "status": "ok",
     "timestamp": 1729633309006,
     "user": {
      "displayName": "Julian mendoza",
      "userId": "05731547993991985363"
     },
     "user_tz": 300
    },
    "id": "064ae945-d6b1-4116-8ab8-6722515d95d4"
   },
   "outputs": [],
   "source": [
    "df['consumo'] = pd.to_numeric(df[f'consumo'], errors='coerce')"
   ]
  },
  {
   "cell_type": "code",
   "execution_count": 108,
   "metadata": {
    "colab": {
     "base_uri": "https://localhost:8080/"
    },
    "executionInfo": {
     "elapsed": 39,
     "status": "ok",
     "timestamp": 1729633309006,
     "user": {
      "displayName": "Julian mendoza",
      "userId": "05731547993991985363"
     },
     "user_tz": 300
    },
    "id": "831c8aef-9624-42b0-974c-ba70ad0015a0",
    "outputId": "e54378b1-224c-4005-b91c-eb9a13f9276e"
   },
   "outputs": [
    {
     "name": "stdout",
     "output_type": "stream",
     "text": [
      "la media es:  1012.0222315546231\n"
     ]
    }
   ],
   "source": [
    "print('la media es: ',df['consumo'].mean())"
   ]
  },
  {
   "cell_type": "code",
   "execution_count": 109,
   "metadata": {
    "colab": {
     "base_uri": "https://localhost:8080/"
    },
    "executionInfo": {
     "elapsed": 35,
     "status": "ok",
     "timestamp": 1729633309007,
     "user": {
      "displayName": "Julian mendoza",
      "userId": "05731547993991985363"
     },
     "user_tz": 300
    },
    "id": "cd716580-4259-4225-9132-72ea677460a0",
    "outputId": "6fee6c1b-fe79-417c-b46f-3c57a2183829"
   },
   "outputs": [
    {
     "name": "stdout",
     "output_type": "stream",
     "text": [
      "la moda es:  0     35.000000\n",
      "1    605.848485\n",
      "Name: consumo, dtype: float64\n"
     ]
    }
   ],
   "source": [
    "print('la moda es: ',df['consumo'].mode())"
   ]
  },
  {
   "cell_type": "code",
   "execution_count": 110,
   "metadata": {
    "colab": {
     "base_uri": "https://localhost:8080/"
    },
    "executionInfo": {
     "elapsed": 30,
     "status": "ok",
     "timestamp": 1729633309007,
     "user": {
      "displayName": "Julian mendoza",
      "userId": "05731547993991985363"
     },
     "user_tz": 300
    },
    "id": "3a6ab167-7e42-4c3f-bca7-a1ffdfa88bd1",
    "outputId": "3c6ab931-8121-400f-8c1c-4e28084094b2"
   },
   "outputs": [
    {
     "name": "stdout",
     "output_type": "stream",
     "text": [
      "la mediana es:  554.4516129\n"
     ]
    }
   ],
   "source": [
    "print('la mediana es: ',df['consumo'].median())"
   ]
  },
  {
   "cell_type": "code",
   "execution_count": 111,
   "metadata": {
    "colab": {
     "base_uri": "https://localhost:8080/"
    },
    "executionInfo": {
     "elapsed": 24,
     "status": "ok",
     "timestamp": 1729633309007,
     "user": {
      "displayName": "Julian mendoza",
      "userId": "05731547993991985363"
     },
     "user_tz": 300
    },
    "id": "5106b945-3c0b-45c9-be4d-1c0286053673",
    "outputId": "58c80ba5-e1d4-4297-90e8-2c9d6862313b"
   },
   "outputs": [
    {
     "name": "stdout",
     "output_type": "stream",
     "text": [
      "el valor mínimo de consumo es: :  -0.736842105\n"
     ]
    }
   ],
   "source": [
    "print('el valor mínimo de consumo es: : ',df['consumo'].min())"
   ]
  },
  {
   "cell_type": "code",
   "execution_count": 112,
   "metadata": {
    "colab": {
     "base_uri": "https://localhost:8080/"
    },
    "executionInfo": {
     "elapsed": 17,
     "status": "ok",
     "timestamp": 1729633309007,
     "user": {
      "displayName": "Julian mendoza",
      "userId": "05731547993991985363"
     },
     "user_tz": 300
    },
    "id": "a6dbb21f-a85f-405c-9230-b99952d8845f",
    "outputId": "0b819d1b-483f-4f64-de33-04b5d00b7453"
   },
   "outputs": [
    {
     "name": "stdout",
     "output_type": "stream",
     "text": [
      "el valor máximo de consumo es: :  22939.92619\n"
     ]
    }
   ],
   "source": [
    "print('el valor máximo de consumo es: : ',df['consumo'].max())"
   ]
  },
  {
   "cell_type": "code",
   "execution_count": 113,
   "metadata": {
    "colab": {
     "base_uri": "https://localhost:8080/"
    },
    "executionInfo": {
     "elapsed": 14,
     "status": "ok",
     "timestamp": 1729633309007,
     "user": {
      "displayName": "Julian mendoza",
      "userId": "05731547993991985363"
     },
     "user_tz": 300
    },
    "id": "8e732213-33e5-42d1-b213-f46df9bea382",
    "outputId": "3480d887-5b1b-404c-b988-e0dc0a1f5e4b"
   },
   "outputs": [
    {
     "name": "stdout",
     "output_type": "stream",
     "text": [
      "el rango de consumo es: :  22940.663032105\n"
     ]
    }
   ],
   "source": [
    "print('el rango de consumo es: : ',df['consumo'].max() - df['consumo'].min())"
   ]
  },
  {
   "cell_type": "code",
   "execution_count": 114,
   "metadata": {
    "colab": {
     "base_uri": "https://localhost:8080/"
    },
    "executionInfo": {
     "elapsed": 11,
     "status": "ok",
     "timestamp": 1729633309007,
     "user": {
      "displayName": "Julian mendoza",
      "userId": "05731547993991985363"
     },
     "user_tz": 300
    },
    "id": "aeff9a4e-52a3-4c2f-ac2b-e5bc12a3c6e7",
    "outputId": "94d93bf0-f9c9-4d8e-e2ab-8e2d1a34ba3d"
   },
   "outputs": [
    {
     "name": "stdout",
     "output_type": "stream",
     "text": [
      "la desviación éstandar de consumo es: :  2472.2317937047383\n"
     ]
    }
   ],
   "source": [
    "print('la desviación éstandar de consumo es: : ',df['consumo'].std())"
   ]
  },
  {
   "cell_type": "code",
   "execution_count": 115,
   "metadata": {
    "colab": {
     "base_uri": "https://localhost:8080/",
     "height": 463
    },
    "executionInfo": {
     "elapsed": 1494,
     "status": "ok",
     "timestamp": 1729633310494,
     "user": {
      "displayName": "Julian mendoza",
      "userId": "05731547993991985363"
     },
     "user_tz": 300
    },
    "id": "42b2da2b-c574-416c-8098-515db2ba164d",
    "outputId": "d2cd152b-fcac-4e91-89bb-947b76ddf5b6"
   },
   "outputs": [
    {
     "data": {
      "text/plain": [
       "<matplotlib.lines.Line2D at 0x1d5b235bac0>"
      ]
     },
     "execution_count": 115,
     "metadata": {},
     "output_type": "execute_result"
    },
    {
     "data": {
      "image/png": "[encoded data removed]",
      "text/plain": [
       "<Figure size 640x480 with 1 Axes>"
      ]
     },
     "metadata": {},
     "output_type": "display_data"
    }
   ],
   "source": [
    "sns.histplot(data = df,x = 'consumo')\n",
    "plt.axvline(x=df['consumo'].mean(),color='red',linestyle='dashed',linewidth=2)"
   ]
  },
  {
   "cell_type": "markdown",
   "metadata": {
    "id": "60115e9a-1d45-4883-a64e-8cef7a6e5a5d"
   },
   "source": [
    "## unidades\n",
    "type: float64"
   ]
  },
  {
   "cell_type": "code",
   "execution_count": 116,
   "metadata": {
    "executionInfo": {
     "elapsed": 18,
     "status": "ok",
     "timestamp": 1729633310494,
     "user": {
      "displayName": "Julian mendoza",
      "userId": "05731547993991985363"
     },
     "user_tz": 300
    },
    "id": "a6663f96-0b46-4b07-82e3-e34ef600040f"
   },
   "outputs": [],
   "source": [
    "df['unidades'] = pd.to_numeric(df[f'unidades'], errors='coerce')"
   ]
  },
  {
   "cell_type": "code",
   "execution_count": 117,
   "metadata": {
    "colab": {
     "base_uri": "https://localhost:8080/"
    },
    "executionInfo": {
     "elapsed": 19,
     "status": "ok",
     "timestamp": 1729633310495,
     "user": {
      "displayName": "Julian mendoza",
      "userId": "05731547993991985363"
     },
     "user_tz": 300
    },
    "id": "22f9ac14-7074-4eb0-933c-c47f75e3f357",
    "outputId": "b85f2803-b7ff-4b56-e05b-fc628d680ec1"
   },
   "outputs": [
    {
     "name": "stdout",
     "output_type": "stream",
     "text": [
      "la media es:  10074.742265793966\n"
     ]
    }
   ],
   "source": [
    "print('la media es: ',df['unidades'].mean())"
   ]
  },
  {
   "cell_type": "code",
   "execution_count": 118,
   "metadata": {
    "colab": {
     "base_uri": "https://localhost:8080/"
    },
    "executionInfo": {
     "elapsed": 17,
     "status": "ok",
     "timestamp": 1729633310495,
     "user": {
      "displayName": "Julian mendoza",
      "userId": "05731547993991985363"
     },
     "user_tz": 300
    },
    "id": "be851b5f-ad99-4541-a0c3-8cf1d35fb5ef",
    "outputId": "d3dc62c8-0e8e-44bf-8d91-22fbb798d6c9"
   },
   "outputs": [
    {
     "name": "stdout",
     "output_type": "stream",
     "text": [
      "la moda es:  0    7455.0\n",
      "Name: unidades, dtype: float64\n"
     ]
    }
   ],
   "source": [
    "print('la moda es: ',df['unidades'].mode())"
   ]
  },
  {
   "cell_type": "code",
   "execution_count": 119,
   "metadata": {
    "colab": {
     "base_uri": "https://localhost:8080/"
    },
    "executionInfo": {
     "elapsed": 14,
     "status": "ok",
     "timestamp": 1729633310495,
     "user": {
      "displayName": "Julian mendoza",
      "userId": "05731547993991985363"
     },
     "user_tz": 300
    },
    "id": "9ed0e1c6-26b0-416f-9c6b-46c418720a29",
    "outputId": "dbb89f7d-899a-4bc8-c649-855d1dc36155"
   },
   "outputs": [
    {
     "name": "stdout",
     "output_type": "stream",
     "text": [
      "la mediana es:  7521.0\n"
     ]
    }
   ],
   "source": [
    "print('la mediana es: ',df['unidades'].median())"
   ]
  },
  {
   "cell_type": "code",
   "execution_count": 120,
   "metadata": {
    "colab": {
     "base_uri": "https://localhost:8080/"
    },
    "executionInfo": {
     "elapsed": 13,
     "status": "ok",
     "timestamp": 1729633310495,
     "user": {
      "displayName": "Julian mendoza",
      "userId": "05731547993991985363"
     },
     "user_tz": 300
    },
    "id": "304e56aa-283b-4895-84cc-aba82b5998a4",
    "outputId": "31ef39cf-82d6-48fe-d8f3-1c4a245bf1ac"
   },
   "outputs": [
    {
     "name": "stdout",
     "output_type": "stream",
     "text": [
      "el valor mínimo de unidades es: :  6.161\n"
     ]
    }
   ],
   "source": [
    "print('el valor mínimo de unidades es: : ',df['unidades'].min())"
   ]
  },
  {
   "cell_type": "code",
   "execution_count": 121,
   "metadata": {
    "colab": {
     "base_uri": "https://localhost:8080/"
    },
    "executionInfo": {
     "elapsed": 11,
     "status": "ok",
     "timestamp": 1729633310495,
     "user": {
      "displayName": "Julian mendoza",
      "userId": "05731547993991985363"
     },
     "user_tz": 300
    },
    "id": "e1341e05-a57c-4dea-815a-763269b2051e",
    "outputId": "4cd1c275-3033-4a3e-bdc2-26974562fcab"
   },
   "outputs": [
    {
     "name": "stdout",
     "output_type": "stream",
     "text": [
      "el valor máximo de unidades es: :  123412.0\n"
     ]
    }
   ],
   "source": [
    "print('el valor máximo de unidades es: : ',df['unidades'].max())"
   ]
  },
  {
   "cell_type": "code",
   "execution_count": 122,
   "metadata": {
    "colab": {
     "base_uri": "https://localhost:8080/"
    },
    "executionInfo": {
     "elapsed": 8,
     "status": "ok",
     "timestamp": 1729633310495,
     "user": {
      "displayName": "Julian mendoza",
      "userId": "05731547993991985363"
     },
     "user_tz": 300
    },
    "id": "113410bd-4c0a-496e-85aa-59266f780ea9",
    "outputId": "74fa7a32-da2a-4ecf-8dd8-24163e5f2c5b"
   },
   "outputs": [
    {
     "name": "stdout",
     "output_type": "stream",
     "text": [
      "el rango de unidades es: :  123405.839\n"
     ]
    }
   ],
   "source": [
    "print('el rango de unidades es: : ',df['unidades'].max() - df['unidades'].min())"
   ]
  },
  {
   "cell_type": "code",
   "execution_count": 123,
   "metadata": {
    "colab": {
     "base_uri": "https://localhost:8080/"
    },
    "executionInfo": {
     "elapsed": 387,
     "status": "ok",
     "timestamp": 1729633310876,
     "user": {
      "displayName": "Julian mendoza",
      "userId": "05731547993991985363"
     },
     "user_tz": 300
    },
    "id": "00b38c6d-c428-466f-948a-2c3326c29f12",
    "outputId": "efdda61f-ef1e-4c5b-b0c3-f7db4b5f4766"
   },
   "outputs": [
    {
     "name": "stdout",
     "output_type": "stream",
     "text": [
      "la desviación éstandar de unidades es: :  8743.540595864788\n"
     ]
    }
   ],
   "source": [
    "print('la desviación éstandar de unidades es: : ',df['unidades'].std())"
   ]
  },
  {
   "cell_type": "code",
   "execution_count": 124,
   "metadata": {
    "colab": {
     "base_uri": "https://localhost:8080/",
     "height": 463
    },
    "executionInfo": {
     "elapsed": 973,
     "status": "ok",
     "timestamp": 1729633311847,
     "user": {
      "displayName": "Julian mendoza",
      "userId": "05731547993991985363"
     },
     "user_tz": 300
    },
    "id": "e46c3b99-dc2c-402b-ae2c-845c7cc3ec7d",
    "outputId": "a9fb9bd8-1b45-461d-a06f-1311acf32cdd"
   },
   "outputs": [
    {
     "data": {
      "text/plain": [
       "<matplotlib.lines.Line2D at 0x1d5b0551d00>"
      ]
     },
     "execution_count": 124,
     "metadata": {},
     "output_type": "execute_result"
    },
    {
     "data": {
      "image/png": "[encoded data removed]",
      "text/plain": [
       "<Figure size 640x480 with 1 Axes>"
      ]
     },
     "metadata": {},
     "output_type": "display_data"
    }
   ],
   "source": [
    "sns.histplot(data = df,x = 'unidades')\n",
    "plt.axvline(x=df['unidades'].mean(),color='red',linestyle='dashed',linewidth=2)"
   ]
  },
  {
   "cell_type": "markdown",
   "metadata": {
    "id": "ebd5063b-552e-40a9-abb2-a1ffdcab49f2"
   },
   "source": [
    "## edad\n",
    "type: int64"
   ]
  },
  {
   "cell_type": "code",
   "execution_count": 125,
   "metadata": {
    "executionInfo": {
     "elapsed": 42,
     "status": "ok",
     "timestamp": 1729633311847,
     "user": {
      "displayName": "Julian mendoza",
      "userId": "05731547993991985363"
     },
     "user_tz": 300
    },
    "id": "6fe1b194-a403-449b-bca6-9d6232109d20"
   },
   "outputs": [],
   "source": [
    "df['edad'] = pd.to_numeric(df[f'edad'], errors='coerce')"
   ]
  },
  {
   "cell_type": "code",
   "execution_count": 126,
   "metadata": {
    "colab": {
     "base_uri": "https://localhost:8080/"
    },
    "executionInfo": {
     "elapsed": 42,
     "status": "ok",
     "timestamp": 1729633311848,
     "user": {
      "displayName": "Julian mendoza",
      "userId": "05731547993991985363"
     },
     "user_tz": 300
    },
    "id": "17a3b867-320f-4e01-bae3-9ea5b125b332",
    "outputId": "d2c5926f-877e-4adb-c54a-9d19f42dcfdc"
   },
   "outputs": [
    {
     "name": "stdout",
     "output_type": "stream",
     "text": [
      "la media es:  30.89641434262948\n"
     ]
    }
   ],
   "source": [
    "print('la media es: ',df['edad'].mean())"
   ]
  },
  {
   "cell_type": "code",
   "execution_count": 127,
   "metadata": {
    "colab": {
     "base_uri": "https://localhost:8080/"
    },
    "executionInfo": {
     "elapsed": 38,
     "status": "ok",
     "timestamp": 1729633311848,
     "user": {
      "displayName": "Julian mendoza",
      "userId": "05731547993991985363"
     },
     "user_tz": 300
    },
    "id": "acbddd83-2822-45c0-99cb-ec13f4fa9b94",
    "outputId": "3acf9349-29c3-4915-b941-59eb1d79fb5b"
   },
   "outputs": [
    {
     "name": "stdout",
     "output_type": "stream",
     "text": [
      "la moda es:  0    28\n",
      "Name: edad, dtype: int64\n"
     ]
    }
   ],
   "source": [
    "print('la moda es: ',df['edad'].mode())"
   ]
  },
  {
   "cell_type": "code",
   "execution_count": 128,
   "metadata": {
    "colab": {
     "base_uri": "https://localhost:8080/"
    },
    "executionInfo": {
     "elapsed": 34,
     "status": "ok",
     "timestamp": 1729633311848,
     "user": {
      "displayName": "Julian mendoza",
      "userId": "05731547993991985363"
     },
     "user_tz": 300
    },
    "id": "45558960-9368-47a0-8097-39e51a406d9b",
    "outputId": "b9a0793d-4121-4d71-d197-5704e4e81125"
   },
   "outputs": [
    {
     "name": "stdout",
     "output_type": "stream",
     "text": [
      "la mediana es:  31.0\n"
     ]
    }
   ],
   "source": [
    "print('la mediana es: ',df['edad'].median())"
   ]
  },
  {
   "cell_type": "code",
   "execution_count": 129,
   "metadata": {
    "colab": {
     "base_uri": "https://localhost:8080/"
    },
    "executionInfo": {
     "elapsed": 31,
     "status": "ok",
     "timestamp": 1729633311849,
     "user": {
      "displayName": "Julian mendoza",
      "userId": "05731547993991985363"
     },
     "user_tz": 300
    },
    "id": "cb748c4c-d8c1-4771-80c6-1d6a905be6b5",
    "outputId": "852cbf51-93c8-4277-dc38-00e2724f2391"
   },
   "outputs": [
    {
     "name": "stdout",
     "output_type": "stream",
     "text": [
      "el valor mínimo de edad es: :  5\n"
     ]
    }
   ],
   "source": [
    "print('el valor mínimo de edad es: : ',df['edad'].min())"
   ]
  },
  {
   "cell_type": "code",
   "execution_count": 130,
   "metadata": {
    "colab": {
     "base_uri": "https://localhost:8080/"
    },
    "executionInfo": {
     "elapsed": 24,
     "status": "ok",
     "timestamp": 1729633311849,
     "user": {
      "displayName": "Julian mendoza",
      "userId": "05731547993991985363"
     },
     "user_tz": 300
    },
    "id": "d2673db1-d2c3-4c39-aa13-d74f99d3fcbd",
    "outputId": "191c07bf-358a-4e7c-d252-0fc7d9e6f880"
   },
   "outputs": [
    {
     "name": "stdout",
     "output_type": "stream",
     "text": [
      "el valor máximo de edad es: :  45\n"
     ]
    }
   ],
   "source": [
    "print('el valor máximo de edad es: : ',df['edad'].max())"
   ]
  },
  {
   "cell_type": "code",
   "execution_count": 131,
   "metadata": {
    "colab": {
     "base_uri": "https://localhost:8080/"
    },
    "executionInfo": {
     "elapsed": 19,
     "status": "ok",
     "timestamp": 1729633311849,
     "user": {
      "displayName": "Julian mendoza",
      "userId": "05731547993991985363"
     },
     "user_tz": 300
    },
    "id": "748aa974-094c-4bec-8d7e-ced173f32971",
    "outputId": "b3a6692d-320f-42b6-a8bb-5d9daa6cc741"
   },
   "outputs": [
    {
     "name": "stdout",
     "output_type": "stream",
     "text": [
      "el rango de edad es: :  40\n"
     ]
    }
   ],
   "source": [
    "print('el rango de edad es: : ',df['edad'].max() - df['edad'].min())"
   ]
  },
  {
   "cell_type": "code",
   "execution_count": 132,
   "metadata": {
    "colab": {
     "base_uri": "https://localhost:8080/"
    },
    "executionInfo": {
     "elapsed": 17,
     "status": "ok",
     "timestamp": 1729633311849,
     "user": {
      "displayName": "Julian mendoza",
      "userId": "05731547993991985363"
     },
     "user_tz": 300
    },
    "id": "bff8cd88-a1d2-45a3-95d4-69988671597e",
    "outputId": "faaf2f3b-ae85-4d16-ee1b-9bdc15da11c9"
   },
   "outputs": [
    {
     "name": "stdout",
     "output_type": "stream",
     "text": [
      "la desviación éstandar de edad es: :  4.896022943828117\n"
     ]
    }
   ],
   "source": [
    "print('la desviación éstandar de edad es: : ',df['edad'].std())"
   ]
  },
  {
   "cell_type": "code",
   "execution_count": 133,
   "metadata": {
    "colab": {
     "base_uri": "https://localhost:8080/",
     "height": 463
    },
    "executionInfo": {
     "elapsed": 466,
     "status": "ok",
     "timestamp": 1729633312301,
     "user": {
      "displayName": "Julian mendoza",
      "userId": "05731547993991985363"
     },
     "user_tz": 300
    },
    "id": "bf1eb728-ad5e-4064-b4a7-cc8e67df401e",
    "outputId": "d6e6cfcc-1341-4511-c73b-2ba4f56e2fea"
   },
   "outputs": [
    {
     "data": {
      "text/plain": [
       "<matplotlib.lines.Line2D at 0x1d5ae552c70>"
      ]
     },
     "execution_count": 133,
     "metadata": {},
     "output_type": "execute_result"
    },
    {
     "data": {
      "image/png": "[encoded data removed]",
      "text/plain": [
       "<Figure size 640x480 with 1 Axes>"
      ]
     },
     "metadata": {},
     "output_type": "display_data"
    }
   ],
   "source": [
    "sns.histplot(data = df,x = 'edad')\n",
    "plt.axvline(x=df['edad'].mean(),color='red',linestyle='dashed',linewidth=2)"
   ]
  },
  {
   "cell_type": "markdown",
   "metadata": {
    "id": "d82c5d2d-e136-4c60-8f71-f21246272d42"
   },
   "source": [
    "## sexo\n",
    "type: object"
   ]
  },
  {
   "cell_type": "code",
   "execution_count": 134,
   "metadata": {
    "colab": {
     "base_uri": "https://localhost:8080/"
    },
    "executionInfo": {
     "elapsed": 26,
     "status": "ok",
     "timestamp": 1729633312301,
     "user": {
      "displayName": "Julian mendoza",
      "userId": "05731547993991985363"
     },
     "user_tz": 300
    },
    "id": "2f34a2b1-9f94-46cb-8718-0b81243c21ba",
    "outputId": "08605e3a-f6c1-4fcd-fed5-bb6211f12bba"
   },
   "outputs": [
    {
     "data": {
      "text/plain": [
       "array(['machos', 'hembras'], dtype=object)"
      ]
     },
     "execution_count": 134,
     "metadata": {},
     "output_type": "execute_result"
    }
   ],
   "source": [
    "df['sexo'] = df['sexo'].astype(str)\n",
    "df['sexo'] = df['sexo'].str.replace('.0','')\n",
    "df['sexo'].unique()"
   ]
  },
  {
   "cell_type": "code",
   "execution_count": 135,
   "metadata": {
    "colab": {
     "base_uri": "https://localhost:8080/",
     "height": 178
    },
    "executionInfo": {
     "elapsed": 22,
     "status": "ok",
     "timestamp": 1729633312302,
     "user": {
      "displayName": "Julian mendoza",
      "userId": "05731547993991985363"
     },
     "user_tz": 300
    },
    "id": "ba81885c-8735-4904-b1bf-7e533edba0d0",
    "outputId": "132e040f-fece-458e-b639-3c20bc0c185e"
   },
   "outputs": [
    {
     "data": {
      "text/plain": [
       "sexo\n",
       "machos     916\n",
       "hembras    841\n",
       "Name: count, dtype: int64"
      ]
     },
     "execution_count": 135,
     "metadata": {},
     "output_type": "execute_result"
    }
   ],
   "source": [
    "df['sexo'].value_counts()"
   ]
  },
  {
   "cell_type": "code",
   "execution_count": 136,
   "metadata": {
    "colab": {
     "base_uri": "https://localhost:8080/",
     "height": 440
    },
    "executionInfo": {
     "elapsed": 674,
     "status": "ok",
     "timestamp": 1729633312957,
     "user": {
      "displayName": "Julian mendoza",
      "userId": "05731547993991985363"
     },
     "user_tz": 300
    },
    "id": "c5c21d5e-5b4f-4216-b366-5bbbed59028b",
    "outputId": "59527f58-b78a-4d61-c47e-cf7c84c76ca6"
   },
   "outputs": [
    {
     "data": {
      "text/plain": [
       "<Axes: ylabel='count'>"
      ]
     },
     "execution_count": 136,
     "metadata": {},
     "output_type": "execute_result"
    },
    {
     "data": {
      "image/png": "[encoded data removed]",
      "text/plain": [
       "<Figure size 1000x500 with 1 Axes>"
      ]
     },
     "metadata": {},
     "output_type": "display_data"
    }
   ],
   "source": [
    "plt.figure(figsize=(10,5))\n",
    "df['sexo'].value_counts()[:15].plot(kind='pie')"
   ]
  },
  {
   "cell_type": "code",
   "execution_count": 137,
   "metadata": {
    "colab": {
     "base_uri": "https://localhost:8080/",
     "height": 459
    },
    "executionInfo": {
     "elapsed": 688,
     "status": "ok",
     "timestamp": 1729633313613,
     "user": {
      "displayName": "Julian mendoza",
      "userId": "05731547993991985363"
     },
     "user_tz": 300
    },
    "id": "ccfc751b-29da-41d6-bf9e-06e781cc48fb",
    "outputId": "fd78ce64-a9a2-4bc7-df3e-ef3981c8aba5"
   },
   "outputs": [
    {
     "data": {
      "text/plain": [
       "<Axes: ylabel='sexo'>"
      ]
     },
     "execution_count": 137,
     "metadata": {},
     "output_type": "execute_result"
    },
    {
     "data": {
      "image/png": "[encoded data removed]",
      "text/plain": [
       "<Figure size 3000x500 with 1 Axes>"
      ]
     },
     "metadata": {},
     "output_type": "display_data"
    }
   ],
   "source": [
    "plt.figure(figsize=(30,5))\n",
    "df['sexo'].value_counts()[:15].plot(kind='barh')"
   ]
  },
  {
   "cell_type": "markdown",
   "metadata": {
    "id": "561b1695-4f78-4268-a7e1-62af68bf509d"
   },
   "source": [
    "## tipogranja\n",
    "type: object"
   ]
  },
  {
   "cell_type": "code",
   "execution_count": 138,
   "metadata": {
    "colab": {
     "base_uri": "https://localhost:8080/"
    },
    "executionInfo": {
     "elapsed": 50,
     "status": "ok",
     "timestamp": 1729633313613,
     "user": {
      "displayName": "Julian mendoza",
      "userId": "05731547993991985363"
     },
     "user_tz": 300
    },
    "id": "ac3e97c8-279d-4747-84ea-385741ec25aa",
    "outputId": "9025b855-3f96-41af-b56a-8b5625b1de30"
   },
   "outputs": [
    {
     "data": {
      "text/plain": [
       "array(['MANUAL', 'AUTOMATICA', 'SEMI AUTOMATICA'], dtype=object)"
      ]
     },
     "execution_count": 138,
     "metadata": {},
     "output_type": "execute_result"
    }
   ],
   "source": [
    "df['tipogranja'] = df['tipogranja'].astype(str)\n",
    "df['tipogranja'] = df['tipogranja'].str.replace('.0','')\n",
    "df['tipogranja'].unique()"
   ]
  },
  {
   "cell_type": "code",
   "execution_count": 139,
   "metadata": {
    "colab": {
     "base_uri": "https://localhost:8080/",
     "height": 209
    },
    "executionInfo": {
     "elapsed": 49,
     "status": "ok",
     "timestamp": 1729633313614,
     "user": {
      "displayName": "Julian mendoza",
      "userId": "05731547993991985363"
     },
     "user_tz": 300
    },
    "id": "981d7170-4d1d-4a20-9b9a-10ddd446e429",
    "outputId": "815df4f4-d541-4e10-9f61-b8c7cfa5af48"
   },
   "outputs": [
    {
     "data": {
      "text/plain": [
       "tipogranja\n",
       "MANUAL             1438\n",
       "AUTOMATICA          297\n",
       "SEMI AUTOMATICA      22\n",
       "Name: count, dtype: int64"
      ]
     },
     "execution_count": 139,
     "metadata": {},
     "output_type": "execute_result"
    }
   ],
   "source": [
    "df['tipogranja'].value_counts()"
   ]
  },
  {
   "cell_type": "code",
   "execution_count": 140,
   "metadata": {
    "colab": {
     "base_uri": "https://localhost:8080/",
     "height": 440
    },
    "executionInfo": {
     "elapsed": 43,
     "status": "ok",
     "timestamp": 1729633313614,
     "user": {
      "displayName": "Julian mendoza",
      "userId": "05731547993991985363"
     },
     "user_tz": 300
    },
    "id": "0221a9ba-30b5-4040-8751-db7f91e9cafd",
    "outputId": "f39d1ab9-7b8c-466f-b90e-dc46bdec9bd6"
   },
   "outputs": [
    {
     "data": {
      "text/plain": [
       "<Axes: ylabel='count'>"
      ]
     },
     "execution_count": 140,
     "metadata": {},
     "output_type": "execute_result"
    },
    {
     "data": {
      "image/png": "[encoded data removed]",
      "text/plain": [
       "<Figure size 1000x500 with 1 Axes>"
      ]
     },
     "metadata": {},
     "output_type": "display_data"
    }
   ],
   "source": [
    "plt.figure(figsize=(10,5))\n",
    "df['tipogranja'].value_counts()[:15].plot(kind='pie')"
   ]
  },
  {
   "cell_type": "code",
   "execution_count": 141,
   "metadata": {
    "colab": {
     "base_uri": "https://localhost:8080/",
     "height": 459
    },
    "executionInfo": {
     "elapsed": 29,
     "status": "ok",
     "timestamp": 1729633313614,
     "user": {
      "displayName": "Julian mendoza",
      "userId": "05731547993991985363"
     },
     "user_tz": 300
    },
    "id": "0cc0510d-d499-4625-8ea1-6d29ca2ae925",
    "outputId": "4194f24e-3e92-4222-9d40-f226781d1e28"
   },
   "outputs": [
    {
     "data": {
      "text/plain": [
       "<Axes: ylabel='tipogranja'>"
      ]
     },
     "execution_count": 141,
     "metadata": {},
     "output_type": "execute_result"
    },
    {
     "data": {
      "image/png": "[encoded data removed]",
      "text/plain": [
       "<Figure size 3000x500 with 1 Axes>"
      ]
     },
     "metadata": {},
     "output_type": "display_data"
    }
   ],
   "source": [
    "plt.figure(figsize=(30,5))\n",
    "df['tipogranja'].value_counts()[:15].plot(kind='barh')"
   ]
  },
  {
   "cell_type": "markdown",
   "metadata": {
    "id": "6bd40a01-e1f8-4841-bb99-1931857c4510"
   },
   "source": [
    "## peso\n",
    "type: float64"
   ]
  },
  {
   "cell_type": "code",
   "execution_count": 142,
   "metadata": {
    "executionInfo": {
     "elapsed": 23,
     "status": "ok",
     "timestamp": 1729633313614,
     "user": {
      "displayName": "Julian mendoza",
      "userId": "05731547993991985363"
     },
     "user_tz": 300
    },
    "id": "9f4f187a-c243-46f3-992a-527cb8e7badd"
   },
   "outputs": [],
   "source": [
    "df['peso'] = pd.to_numeric(df[f'peso'], errors='coerce')"
   ]
  },
  {
   "cell_type": "code",
   "execution_count": 143,
   "metadata": {
    "colab": {
     "base_uri": "https://localhost:8080/"
    },
    "executionInfo": {
     "elapsed": 22,
     "status": "ok",
     "timestamp": 1729633313614,
     "user": {
      "displayName": "Julian mendoza",
      "userId": "05731547993991985363"
     },
     "user_tz": 300
    },
    "id": "6b710e85-eede-42c4-941f-cad544e58fe3",
    "outputId": "d523e742-cc7f-420b-b37a-ac0b2765fd2c"
   },
   "outputs": [
    {
     "name": "stdout",
     "output_type": "stream",
     "text": [
      "la media es:  1.7354177575412637\n"
     ]
    }
   ],
   "source": [
    "print('la media es: ',df['peso'].mean())"
   ]
  },
  {
   "cell_type": "code",
   "execution_count": 144,
   "metadata": {
    "colab": {
     "base_uri": "https://localhost:8080/"
    },
    "executionInfo": {
     "elapsed": 18,
     "status": "ok",
     "timestamp": 1729633313614,
     "user": {
      "displayName": "Julian mendoza",
      "userId": "05731547993991985363"
     },
     "user_tz": 300
    },
    "id": "2e1e4971-956c-4ce0-ae89-1dacbbad679a",
    "outputId": "3bf98df8-ab40-46ce-f485-ce8b9c0b445a"
   },
   "outputs": [
    {
     "name": "stdout",
     "output_type": "stream",
     "text": [
      "la moda es:  0    1.83\n",
      "Name: peso, dtype: float64\n"
     ]
    }
   ],
   "source": [
    "print('la moda es: ',df['peso'].mode())"
   ]
  },
  {
   "cell_type": "code",
   "execution_count": 145,
   "metadata": {
    "colab": {
     "base_uri": "https://localhost:8080/"
    },
    "executionInfo": {
     "elapsed": 799,
     "status": "ok",
     "timestamp": 1729633314400,
     "user": {
      "displayName": "Julian mendoza",
      "userId": "05731547993991985363"
     },
     "user_tz": 300
    },
    "id": "93c6bfd6-0e02-4a39-8816-14767ccd6835",
    "outputId": "71151ed1-d587-4179-fb01-1a71b02c9250"
   },
   "outputs": [
    {
     "name": "stdout",
     "output_type": "stream",
     "text": [
      "la mediana es:  1.76\n"
     ]
    }
   ],
   "source": [
    "print('la mediana es: ',df['peso'].median())"
   ]
  },
  {
   "cell_type": "code",
   "execution_count": 146,
   "metadata": {
    "colab": {
     "base_uri": "https://localhost:8080/"
    },
    "executionInfo": {
     "elapsed": 17,
     "status": "ok",
     "timestamp": 1729633314401,
     "user": {
      "displayName": "Julian mendoza",
      "userId": "05731547993991985363"
     },
     "user_tz": 300
    },
    "id": "8fb08dfa-a1a5-462f-81db-734d7d72908c",
    "outputId": "b3fbd916-6459-4f2a-9f0a-4203c6c493da"
   },
   "outputs": [
    {
     "name": "stdout",
     "output_type": "stream",
     "text": [
      "el valor mínimo de peso es: :  0.155\n"
     ]
    }
   ],
   "source": [
    "print('el valor mínimo de peso es: : ',df['peso'].min())"
   ]
  },
  {
   "cell_type": "code",
   "execution_count": 147,
   "metadata": {
    "colab": {
     "base_uri": "https://localhost:8080/"
    },
    "executionInfo": {
     "elapsed": 14,
     "status": "ok",
     "timestamp": 1729633314401,
     "user": {
      "displayName": "Julian mendoza",
      "userId": "05731547993991985363"
     },
     "user_tz": 300
    },
    "id": "149f5291-4212-4c82-92cc-2471a41253f6",
    "outputId": "aa804d54-817b-445e-e357-4aa644e086d3"
   },
   "outputs": [
    {
     "name": "stdout",
     "output_type": "stream",
     "text": [
      "el valor máximo de peso es: :  7.0\n"
     ]
    }
   ],
   "source": [
    "print('el valor máximo de peso es: : ',df['peso'].max())"
   ]
  },
  {
   "cell_type": "code",
   "execution_count": 148,
   "metadata": {
    "colab": {
     "base_uri": "https://localhost:8080/"
    },
    "executionInfo": {
     "elapsed": 11,
     "status": "ok",
     "timestamp": 1729633314401,
     "user": {
      "displayName": "Julian mendoza",
      "userId": "05731547993991985363"
     },
     "user_tz": 300
    },
    "id": "908da4b5-14e5-4d6f-9d2f-f8fc854f3f38",
    "outputId": "d0ccd54e-5508-4cd8-c7fe-f66013009a0f"
   },
   "outputs": [
    {
     "name": "stdout",
     "output_type": "stream",
     "text": [
      "el rango de peso es: :  6.845\n"
     ]
    }
   ],
   "source": [
    "print('el rango de peso es: : ',df['peso'].max() - df['peso'].min())"
   ]
  },
  {
   "cell_type": "code",
   "execution_count": 149,
   "metadata": {
    "colab": {
     "base_uri": "https://localhost:8080/"
    },
    "executionInfo": {
     "elapsed": 8,
     "status": "ok",
     "timestamp": 1729633314401,
     "user": {
      "displayName": "Julian mendoza",
      "userId": "05731547993991985363"
     },
     "user_tz": 300
    },
    "id": "41aec444-2a0e-468d-bad2-8d059975e8d4",
    "outputId": "acf0dc08-ac4d-4c79-d40f-acb3b44315fe"
   },
   "outputs": [
    {
     "name": "stdout",
     "output_type": "stream",
     "text": [
      "la desviación éstandar de peso es: :  0.4130890157659111\n"
     ]
    }
   ],
   "source": [
    "print('la desviación éstandar de peso es: : ',df['peso'].std())"
   ]
  },
  {
   "cell_type": "code",
   "execution_count": 150,
   "metadata": {
    "colab": {
     "base_uri": "https://localhost:8080/",
     "height": 463
    },
    "executionInfo": {
     "elapsed": 216,
     "status": "ok",
     "timestamp": 1729633314611,
     "user": {
      "displayName": "Julian mendoza",
      "userId": "05731547993991985363"
     },
     "user_tz": 300
    },
    "id": "12293e86-8b25-47b6-9c46-bdbb248ba1ac",
    "outputId": "950ae064-45b6-4945-eb8f-2e282ea99359"
   },
   "outputs": [
    {
     "data": {
      "text/plain": [
       "<matplotlib.lines.Line2D at 0x1d5b15903d0>"
      ]
     },
     "execution_count": 150,
     "metadata": {},
     "output_type": "execute_result"
    },
    {
     "data": {
      "image/png": "[encoded data removed]",
      "text/plain": [
       "<Figure size 640x480 with 1 Axes>"
      ]
     },
     "metadata": {},
     "output_type": "display_data"
    }
   ],
   "source": [
    "sns.histplot(data = df,x = 'peso')\n",
    "plt.axvline(x=df['peso'].mean(),color='red',linestyle='dashed',linewidth=2)"
   ]
  },
  {
   "cell_type": "markdown",
   "metadata": {
    "id": "18adba72-d22c-490e-8928-015cbdc7c846"
   },
   "source": [
    "# Sweetviz report"
   ]
  },
  {
   "cell_type": "code",
   "execution_count": 151,
   "metadata": {
    "colab": {
     "base_uri": "https://localhost:8080/",
     "height": 67,
     "referenced_widgets": [
      "40d7fb22389a4a128d90cff863165ced",
      "ce670b4f34854ea79e33cbaa3b6791b0",
      "662f3621779a475aa6d6f2d307cf9fac",
      "2e47e13d1c0146c48ebf63cfa318af59",
      "c1de53a1f3674ae29231ac0cc2321114",
      "7919634038ff43b2ae53751bae4da14d",
      "3176ee7db1ff40d0bb7fa87faddc3c01",
      "70451f5e663f4424bd6b21303a0abc27",
      "bfbd35465f274830a2684638692408d2",
      "4d9ab782ecb148aaaee3dbc991b1db83",
      "5632567ff69d4c9091f9bcebe702e2a7"
     ]
    },
    "executionInfo": {
     "elapsed": 10607,
     "status": "ok",
     "timestamp": 1729633325211,
     "user": {
      "displayName": "Julian mendoza",
      "userId": "05731547993991985363"
     },
     "user_tz": 300
    },
    "id": "bb7f1771-e912-43ec-8354-95a7b5951c0f",
    "outputId": "621eb873-5af9-45f1-8f95-de6b805148b8"
   },
   "outputs": [
    {
     "name": "stdout",
     "output_type": "stream",
     "text": [
      "Report C:/Users/USER/OneDrive - universidadean.edu.co/3. Machine learning/Proyecto final/sw_report_datos_granja_ok.html was generated! NOTEBOOK/COLAB USERS: the web browser MAY not pop up, regardless, the report IS saved in your notebook/colab files.\n"
     ]
    }
   ],
   "source": [
    "path_dir = \"C:/Users/USER/OneDrive - universidadean.edu.co/3. Machine learning/Proyecto final/\"\n",
    "sweet_report.show_html(f'{path_dir}sw_report_datos_granja_ok.html')\n"
   ]
  },
  {
   "cell_type": "code",
   "execution_count": 152,
   "metadata": {
    "executionInfo": {
     "elapsed": 1028,
     "status": "ok",
     "timestamp": 1729633404468,
     "user": {
      "displayName": "Julian mendoza",
      "userId": "05731547993991985363"
     },
     "user_tz": 300
    },
    "id": "g-pk6Ec8LxMq"
   },
   "outputs": [],
   "source": [
    "import pandas as pd\n",
    "import numpy as np\n",
    "from scipy.stats import pearsonr, spearmanr, kendalltau\n",
    "from sklearn.feature_selection import mutual_info_regression\n",
    "import seaborn as sns\n",
    "import matplotlib.pyplot as plt\n"
   ]
  },
  {
   "cell_type": "code",
   "execution_count": 153,
   "metadata": {
    "executionInfo": {
     "elapsed": 231,
     "status": "ok",
     "timestamp": 1729633412944,
     "user": {
      "displayName": "Julian mendoza",
      "userId": "05731547993991985363"
     },
     "user_tz": 300
    },
    "id": "c6_0ogl5L0EQ"
   },
   "outputs": [],
   "source": [
    "# Pearson Correlation\n",
    "def pearson_correlation(df, col1, col2):\n",
    "    corr, _ = pearsonr(df[col1], df[col2])\n",
    "    return corr\n",
    "\n",
    "# Spearman Correlation\n",
    "def spearman_correlation(df, col1, col2):\n",
    "    corr, _ = spearmanr(df[col1], df[col2])\n",
    "    return corr\n",
    "\n",
    "# Kendall Tau Correlation\n",
    "def kendall_correlation(df, col1, col2):\n",
    "    corr, _ = kendalltau(df[col1], df[col2])\n",
    "    return corr\n",
    "\n",
    "# Mutual Information (works for numerical features)\n",
    "def mutual_information(df, target_col, feature_col):\n",
    "    mi = mutual_info_regression(df[[feature_col]], df[target_col])\n",
    "    return mi[0]\n"
   ]
  },
  {
   "cell_type": "code",
   "execution_count": 154,
   "metadata": {
    "executionInfo": {
     "elapsed": 217,
     "status": "ok",
     "timestamp": 1729633601559,
     "user": {
      "displayName": "Julian mendoza",
      "userId": "05731547993991985363"
     },
     "user_tz": 300
    },
    "id": "JcuXQ7fXL2Uu"
   },
   "outputs": [],
   "source": [
    "# Pearson Correlation Heatmap for numerical columns\n",
    "def pearson_correlation_numerical(df):\n",
    "    # Filter numerical columns\n",
    "    numerical_df = filter_numerical_columns(df)\n",
    "\n",
    "    # Compute Pearson correlation matrix\n",
    "    corr = numerical_df.corr(method='pearson')\n",
    "\n",
    "    # Plot the heatmap\n",
    "    plt.figure(figsize=(10, 8))\n",
    "    sns.heatmap(corr, annot=True, cmap='coolwarm', center=0, linewidths=0.5)\n",
    "    plt.title(\"Pearson Correlation Heatmap (Numerical Variables Only)\")\n",
    "    plt.show()\n",
    "\n",
    "    return corr"
   ]
  },
  {
   "cell_type": "code",
   "execution_count": 155,
   "metadata": {
    "executionInfo": {
     "elapsed": 224,
     "status": "ok",
     "timestamp": 1729633426565,
     "user": {
      "displayName": "Julian mendoza",
      "userId": "05731547993991985363"
     },
     "user_tz": 300
    },
    "id": "XcYobmEUL4WM"
   },
   "outputs": [],
   "source": [
    "def plot_scatter_with_regression(df, col1, col2):\n",
    "    plt.figure(figsize=(8, 6))\n",
    "    sns.regplot(x=col1, y=col2, data=df, scatter_kws={\"s\": 50}, line_kws={\"color\": \"red\"})\n",
    "    plt.title(f'Scatter Plot with Regression Line: {col1} vs {col2}')\n",
    "    plt.xlabel(col1)\n",
    "    plt.ylabel(col2)\n",
    "    plt.show()\n"
   ]
  },
  {
   "cell_type": "code",
   "execution_count": 156,
   "metadata": {
    "colab": {
     "base_uri": "https://localhost:8080/"
    },
    "executionInfo": {
     "elapsed": 9,
     "status": "ok",
     "timestamp": 1729633441882,
     "user": {
      "displayName": "Julian mendoza",
      "userId": "05731547993991985363"
     },
     "user_tz": 300
    },
    "id": "--JUhkzGL8n4",
    "outputId": "092e9d69-720e-43d3-b9a5-f749e5065166"
   },
   "outputs": [
    {
     "name": "stdout",
     "output_type": "stream",
     "text": [
      "<class 'pandas.core.frame.DataFrame'>\n",
      "RangeIndex: 1757 entries, 0 to 1756\n",
      "Data columns (total 11 columns):\n",
      " #   Column       Non-Null Count  Dtype         \n",
      "---  ------       --------------  -----         \n",
      " 0   fecha        1757 non-null   datetime64[ns]\n",
      " 1   co           1757 non-null   object        \n",
      " 2   ciudad       1757 non-null   object        \n",
      " 3   temperatura  1757 non-null   object        \n",
      " 4   depto        1757 non-null   object        \n",
      " 5   consumo      1757 non-null   float64       \n",
      " 6   unidades     1757 non-null   float64       \n",
      " 7   edad         1757 non-null   int64         \n",
      " 8   sexo         1757 non-null   object        \n",
      " 9   tipogranja   1757 non-null   object        \n",
      " 10  peso         1757 non-null   float64       \n",
      "dtypes: datetime64[ns](1), float64(3), int64(1), object(6)\n",
      "memory usage: 151.1+ KB\n"
     ]
    }
   ],
   "source": [
    "df.info()"
   ]
  },
  {
   "cell_type": "code",
   "execution_count": 157,
   "metadata": {
    "executionInfo": {
     "elapsed": 229,
     "status": "ok",
     "timestamp": 1729633852663,
     "user": {
      "displayName": "Julian mendoza",
      "userId": "05731547993991985363"
     },
     "user_tz": 300
    },
    "id": "-ohl2fpzNeed"
   },
   "outputs": [],
   "source": [
    "from sklearn.preprocessing import MinMaxScaler\n",
    "\n",
    "# Min-Max Normalization for the 'peso' column\n",
    "def normalize_min_max(df, col):\n",
    "    scaler = MinMaxScaler()\n",
    "    df[col + '_min_max_normalized'] = scaler.fit_transform(df[[col]])\n",
    "    return df\n",
    "\n",
    "# Normalize the 'peso' column using Min-Max scaling\n",
    "df = normalize_min_max(df, 'consumo')"
   ]
  },
  {
   "cell_type": "code",
   "execution_count": 158,
   "metadata": {
    "colab": {
     "base_uri": "https://localhost:8080/",
     "height": 1000
    },
    "executionInfo": {
     "elapsed": 1599,
     "status": "ok",
     "timestamp": 1729633855195,
     "user": {
      "displayName": "Julian mendoza",
      "userId": "05731547993991985363"
     },
     "user_tz": 300
    },
    "id": "ouClGQ8zL5qm",
    "outputId": "65cbb265-c9b1-4de1-8e19-5bf1b781ab7a"
   },
   "outputs": [
    {
     "name": "stdout",
     "output_type": "stream",
     "text": [
      "Pearson Correlation: -0.18644621753009083\n",
      "Spearman Correlation: 0.06839267956093688\n",
      "Kendall Correlation: 0.05709828407847271\n",
      "Mutual Information: 2.015233426414397\n"
     ]
    },
    {
     "data": {
      "image/png": "[encoded data removed]",
      "text/plain": [
       "<Figure size 1000x800 with 2 Axes>"
      ]
     },
     "metadata": {},
     "output_type": "display_data"
    },
    {
     "data": {
      "image/png": "[encoded data removed]",
      "text/plain": [
       "<Figure size 800x600 with 1 Axes>"
      ]
     },
     "metadata": {},
     "output_type": "display_data"
    }
   ],
   "source": [
    "# Pearson correlation between x and y\n",
    "pearson_corr = pearson_correlation(df, 'peso', 'consumo')\n",
    "print(f\"Pearson Correlation: {pearson_corr}\")\n",
    "\n",
    "# Spearman correlation between x and y\n",
    "spearman_corr = spearman_correlation(df, 'peso', 'consumo')\n",
    "print(f\"Spearman Correlation: {spearman_corr}\")\n",
    "\n",
    "# Kendall correlation between x and y\n",
    "kendall_corr = kendall_correlation(df, 'peso', 'consumo')\n",
    "print(f\"Kendall Correlation: {kendall_corr}\")\n",
    "\n",
    "# Mutual Information between x and y (numerical only)\n",
    "mutual_info = mutual_information(df, 'peso', 'consumo')\n",
    "print(f\"Mutual Information: {mutual_info}\")\n",
    "\n",
    "# Filter only numerical variables in a DataFrame\n",
    "def filter_numerical_columns(df):\n",
    "    # Select only numerical columns (int, float)\n",
    "    return df.select_dtypes(include=[np.number])\n",
    "\n",
    "# Plot correlation heatmap\n",
    "pearson_correlation_numerical(df)\n",
    "\n",
    "# Scatter plot with regression line between x and y\n",
    "plot_scatter_with_regression(df, 'peso', 'consumo')"
   ]
  },
  {
   "cell_type": "code",
   "execution_count": 159,
   "metadata": {
    "colab": {
     "base_uri": "https://localhost:8080/"
    },
    "executionInfo": {
     "elapsed": 21049,
     "status": "ok",
     "timestamp": 1729633897801,
     "user": {
      "displayName": "Julian mendoza",
      "userId": "05731547993991985363"
     },
     "user_tz": 300
    },
    "id": "fs0vafqPNmvP",
    "outputId": "2247cb06-039a-4fb4-bced-3f5da7de162d"
   },
   "outputs": [
    {
     "name": "stdout",
     "output_type": "stream",
     "text": [
      "Collecting dcor\n",
      "  Downloading dcor-0.6-py3-none-any.whl.metadata (6.2 kB)\n",
      "Requirement already satisfied: numpy in c:\\users\\user\\miniconda3\\envs\\proyecto_ml1\\lib\\site-packages (from dcor) (1.24.3)\n",
      "Collecting numba>=0.51 (from dcor)\n",
      "  Downloading numba-0.58.1-cp38-cp38-win_amd64.whl.metadata (2.8 kB)\n",
      "Requirement already satisfied: scipy in c:\\users\\user\\miniconda3\\envs\\proyecto_ml1\\lib\\site-packages (from dcor) (1.10.1)\n",
      "Requirement already satisfied: joblib in c:\\users\\user\\miniconda3\\envs\\proyecto_ml1\\lib\\site-packages (from dcor) (1.4.2)\n",
      "Collecting llvmlite<0.42,>=0.41.0dev0 (from numba>=0.51->dcor)\n",
      "  Downloading llvmlite-0.41.1-cp38-cp38-win_amd64.whl.metadata (4.9 kB)\n",
      "Requirement already satisfied: importlib-metadata in c:\\users\\user\\miniconda3\\envs\\proyecto_ml1\\lib\\site-packages (from numba>=0.51->dcor) (8.5.0)\n",
      "Requirement already satisfied: zipp>=3.20 in c:\\users\\user\\miniconda3\\envs\\proyecto_ml1\\lib\\site-packages (from importlib-metadata->numba>=0.51->dcor) (3.20.2)\n",
      "Downloading dcor-0.6-py3-none-any.whl (55 kB)\n",
      "Downloading numba-0.58.1-cp38-cp38-win_amd64.whl (2.6 MB)\n",
      "   ---------------------------------------- 0.0/2.6 MB ? eta -:--:--\n",
      "   --- ------------------------------------ 0.3/2.6 MB ? eta -:--:--\n",
      "   ----------------------- ---------------- 1.6/2.6 MB 6.0 MB/s eta 0:00:01\n",
      "   ---------------------------------------- 2.6/2.6 MB 6.9 MB/s eta 0:00:00\n",
      "Downloading llvmlite-0.41.1-cp38-cp38-win_amd64.whl (28.1 MB)\n",
      "   ---------------------------------------- 0.0/28.1 MB ? eta -:--:--\n",
      "   - -------------------------------------- 1.0/28.1 MB 7.2 MB/s eta 0:00:04\n",
      "   ---- ----------------------------------- 3.1/28.1 MB 7.7 MB/s eta 0:00:04\n",
      "   ----- ---------------------------------- 4.2/28.1 MB 7.2 MB/s eta 0:00:04\n",
      "   -------- ------------------------------- 5.8/28.1 MB 7.2 MB/s eta 0:00:04\n",
      "   ---------- ----------------------------- 7.3/28.1 MB 7.3 MB/s eta 0:00:03\n",
      "   ------------- -------------------------- 9.4/28.1 MB 7.4 MB/s eta 0:00:03\n",
      "   ---------------- ----------------------- 11.5/28.1 MB 8.0 MB/s eta 0:00:03\n",
      "   -------------------- ------------------- 14.2/28.1 MB 8.3 MB/s eta 0:00:02\n",
      "   ----------------------- ---------------- 16.3/28.1 MB 8.5 MB/s eta 0:00:02\n",
      "   -------------------------- ------------- 18.6/28.1 MB 8.8 MB/s eta 0:00:02\n",
      "   ----------------------------- ---------- 21.0/28.1 MB 9.0 MB/s eta 0:00:01\n",
      "   --------------------------------- ------ 23.3/28.1 MB 9.2 MB/s eta 0:00:01\n",
      "   ------------------------------------ --- 25.7/28.1 MB 9.4 MB/s eta 0:00:01\n",
      "   ---------------------------------------  27.8/28.1 MB 9.5 MB/s eta 0:00:01\n",
      "   ---------------------------------------- 28.1/28.1 MB 9.1 MB/s eta 0:00:00\n",
      "Installing collected packages: llvmlite, numba, dcor\n",
      "Successfully installed dcor-0.6 llvmlite-0.41.1 numba-0.58.1\n",
      "Collecting minepy\n",
      "  Downloading minepy-1.2.6.tar.gz (496 kB)\n",
      "  Preparing metadata (setup.py): started\n",
      "  Preparing metadata (setup.py): finished with status 'done'\n",
      "Requirement already satisfied: numpy>=1.3.0 in c:\\users\\user\\miniconda3\\envs\\proyecto_ml1\\lib\\site-packages (from minepy) (1.24.3)\n",
      "Building wheels for collected packages: minepy\n",
      "  Building wheel for minepy (setup.py): started\n",
      "  Building wheel for minepy (setup.py): finished with status 'done'\n",
      "  Created wheel for minepy: filename=minepy-1.2.6-cp38-cp38-win_amd64.whl size=47849 sha256=f72983548f4f9941ac62095583bb744b7f91aa2b472443e47e0670fb07838e3c\n",
      "  Stored in directory: c:\\users\\user\\appdata\\local\\pip\\cache\\wheels\\38\\c1\\43\\6122536c873081a61af51f929214171d5372f93a29e263a06f\n",
      "Successfully built minepy\n",
      "Installing collected packages: minepy\n",
      "Successfully installed minepy-1.2.6\n"
     ]
    }
   ],
   "source": [
    "!pip install dcor\n",
    "!pip install minepy"
   ]
  },
  {
   "cell_type": "code",
   "execution_count": 160,
   "metadata": {
    "executionInfo": {
     "elapsed": 89043,
     "status": "ok",
     "timestamp": 1729633986834,
     "user": {
      "displayName": "Julian mendoza",
      "userId": "05731547993991985363"
     },
     "user_tz": 300
    },
    "id": "AjPQrKn5MMws"
   },
   "outputs": [],
   "source": [
    "from sklearn.metrics import mean_squared_error, mean_absolute_error, r2_score\n",
    "from dcor import distance_correlation\n",
    "from minepy import MINE  # For Maximal Information Coefficient (MIC)\n",
    "\n",
    "# Mean Squared Error (MSE)\n",
    "def mean_squared_error_metric(df, col1, col2):\n",
    "    mse = mean_squared_error(df[col1], df[col2])\n",
    "    return mse\n",
    "\n",
    "# Mean Absolute Error (MAE)\n",
    "def mean_absolute_error_metric(df, col1, col2):\n",
    "    mae = mean_absolute_error(df[col1], df[col2])\n",
    "    return mae\n",
    "\n",
    "# R-squared (R²)\n",
    "def r_squared_metric(df, col1, col2):\n",
    "    r2 = r2_score(df[col1], df[col2])\n",
    "    return r2\n",
    "\n",
    "# Distance Correlation\n",
    "def distance_correlation_metric(df, col1, col2):\n",
    "    dcor = distance_correlation(df[col1], df[col2])\n",
    "    return dcor\n",
    "\n",
    "# Maximal Information Coefficient (MIC)\n",
    "def maximal_information_coefficient(df, col1, col2):\n",
    "    mine = MINE()\n",
    "    mine.compute_score(df[col1], df[col2])\n",
    "    return mine.mic()\n"
   ]
  },
  {
   "cell_type": "code",
   "execution_count": 161,
   "metadata": {
    "colab": {
     "base_uri": "https://localhost:8080/"
    },
    "executionInfo": {
     "elapsed": 470,
     "status": "ok",
     "timestamp": 1729633987284,
     "user": {
      "displayName": "Julian mendoza",
      "userId": "05731547993991985363"
     },
     "user_tz": 300
    },
    "id": "bYKHl3YkNR-b",
    "outputId": "a7051603-a02e-4b3d-c498-02768df64d9e"
   },
   "outputs": [
    {
     "name": "stdout",
     "output_type": "stream",
     "text": [
      "Mean Squared Error: 7129511.641824827\n",
      "Mean Absolute Error: 1010.28905721439\n",
      "R-squared: -41804181.82241216\n",
      "Distance Correlation: 0.28946077869841413\n",
      "Maximal Information Coefficient: 0.5042156499136433\n"
     ]
    }
   ],
   "source": [
    "# Mean Squared Error (MSE) between x and y\n",
    "mse = mean_squared_error_metric(df, 'peso', 'consumo')\n",
    "print(f\"Mean Squared Error: {mse}\")\n",
    "\n",
    "# Mean Absolute Error (MAE) between x and y\n",
    "mae = mean_absolute_error_metric(df, 'peso', 'consumo')\n",
    "print(f\"Mean Absolute Error: {mae}\")\n",
    "\n",
    "# R-squared (R²) between x and y\n",
    "r2 = r_squared_metric(df, 'peso', 'consumo')\n",
    "print(f\"R-squared: {r2}\")\n",
    "\n",
    "# Distance Correlation between x and y\n",
    "dcor = distance_correlation_metric(df, 'peso', 'consumo')\n",
    "print(f\"Distance Correlation: {dcor}\")\n",
    "\n",
    "# Maximal Information Coefficient (MIC) between x and y\n",
    "mic = maximal_information_coefficient(df, 'peso', 'consumo')\n",
    "print(f\"Maximal Information Coefficient: {mic}\")\n"
   ]
  },
  {
   "cell_type": "markdown",
   "metadata": {
    "id": "wHOmo4dDOwJE"
   },
   "source": [
    "1. Mean Squared Error (MSE): 7129511.64\n",
    "MSE is the average squared difference between the actual and predicted values. It penalizes large errors more heavily because it squares the differences.\n",
    "A high value like 7129511.64 indicates that the predicted values are quite far off from the actual values on average.\n",
    "This large error suggests that there is a significant difference between the two variables, meaning that they may not have a strong predictive relationship.\n",
    "2. Mean Absolute Error (MAE): 1010.29\n",
    "MAE represents the average absolute difference between the actual and predicted values.\n",
    "In this case, the MAE is 1010.29, which means that, on average, the difference between the actual and predicted values is about 1010 units.\n",
    "MAE is generally easier to interpret than MSE because it's in the same units as the data. While still high, it's less sensitive to large errors than MSE.\n",
    "3. R-squared: -41804181.82\n",
    "R-squared (R²) measures the proportion of the variance in the dependent variable that is predictable from the independent variable.\n",
    "Negative R-squared values are possible when the model fits the data very poorly. In your case, R² = -41804181.82 suggests that the model is performing far worse than simply predicting the mean of the target variable. Essentially, the independent variable provides no meaningful predictive power for the dependent variable.\n",
    "4. Distance Correlation: 0.289\n",
    "Distance Correlation measures both linear and nonlinear associations. A value of 0 indicates no dependence, while 1 indicates complete dependence.\n",
    "A value of 0.289 suggests a weak to moderate relationship between the variables. This means there is some degree of dependence, but it's not very strong.\n",
    "5. Maximal Information Coefficient (MIC): 0.504\n",
    "MIC is designed to capture both linear and nonlinear relationships between variables. It ranges from 0 (no association) to 1 (perfect association).\n",
    "A value of 0.504 suggests a moderate relationship between the two variables. This moderate MIC score indicates that there is some meaningful dependency that might not be purely linear.\n",
    "Summary of the Results:\n",
    "High Errors (MSE and MAE): The large error values (MSE and MAE) suggest that your model struggles to predict one variable from the other, leading to substantial differences between actual and predicted values.\n",
    "Negative R-squared: The extremely negative R-squared indicates that your model is performing much worse than random guessing. This points to a very poor fit, where the independent variable provides no useful information to predict the target.\n",
    "Distance Correlation (0.289) and MIC (0.504): These indicate that while traditional linear correlations are weak or non-existent, there may still be some nonlinear relationship between the variables, as shown by the moderate MIC score.\n",
    "What This Means:\n",
    "These results suggest that the relationship between the variables is weak or highly complex, with significant errors in prediction.\n",
    "Traditional linear models (as implied by the R-squared and high errors) perform poorly here. However, the moderate Distance Correlation and MIC suggest that there could be nonlinear or more complex patterns in the data that require more sophisticated modeling techniques to capture effectively."
   ]
  },
  {
   "cell_type": "code",
   "execution_count": null,
   "metadata": {
    "id": "XmtapV6UNoyU"
   },
   "outputs": [],
   "source": []
  }
 ],
 "metadata": {
  "colab": {
   "provenance": []
  },
  "kernelspec": {
   "display_name": "proyecto_ml1",
   "language": "python",
   "name": "python3"
  },
  "language_info": {
   "codemirror_mode": {
    "name": "ipython",
    "version": 3
   },
   "file_extension": ".py",
   "mimetype": "text/x-python",
   "name": "python",
   "nbconvert_exporter": "python",
   "pygments_lexer": "ipython3",
   "version": "3.8.20"
  },
  "widgets": {
   "application/vnd.jupyter.widget-state+json": {
    "2e47e13d1c0146c48ebf63cfa318af59": {
     "model_module": "@jupyter-widgets/controls",
     "model_module_version": "1.5.0",
     "model_name": "HTMLModel",
     "state": {
      "_dom_classes": [],
      "_model_module": "@jupyter-widgets/controls",
      "_model_module_version": "1.5.0",
      "_model_name": "HTMLModel",
      "_view_count": null,
      "_view_module": "@jupyter-widgets/controls",
      "_view_module_version": "1.5.0",
      "_view_name": "HTMLView",
      "description": "",
      "description_tooltip": null,
      "layout": "IPY_MODEL_4d9ab782ecb148aaaee3dbc991b1db83",
      "placeholder": "​",
      "style": "IPY_MODEL_5632567ff69d4c9091f9bcebe702e2a7",
      "value": " [100%]   00:02 -&gt; (00:00 left)"
     }
    },
    "3176ee7db1ff40d0bb7fa87faddc3c01": {
     "model_module": "@jupyter-widgets/controls",
     "model_module_version": "1.5.0",
     "model_name": "DescriptionStyleModel",
     "state": {
      "_model_module": "@jupyter-widgets/controls",
      "_model_module_version": "1.5.0",
      "_model_name": "DescriptionStyleModel",
      "_view_count": null,
      "_view_module": "@jupyter-widgets/base",
      "_view_module_version": "1.2.0",
      "_view_name": "StyleView",
      "description_width": ""
     }
    },
    "40d7fb22389a4a128d90cff863165ced": {
     "model_module": "@jupyter-widgets/controls",
     "model_module_version": "1.5.0",
     "model_name": "HBoxModel",
     "state": {
      "_dom_classes": [],
      "_model_module": "@jupyter-widgets/controls",
      "_model_module_version": "1.5.0",
      "_model_name": "HBoxModel",
      "_view_count": null,
      "_view_module": "@jupyter-widgets/controls",
      "_view_module_version": "1.5.0",
      "_view_name": "HBoxView",
      "box_style": "",
      "children": [
       "IPY_MODEL_ce670b4f34854ea79e33cbaa3b6791b0",
       "IPY_MODEL_662f3621779a475aa6d6f2d307cf9fac",
       "IPY_MODEL_2e47e13d1c0146c48ebf63cfa318af59"
      ],
      "layout": "IPY_MODEL_c1de53a1f3674ae29231ac0cc2321114"
     }
    },
    "4d9ab782ecb148aaaee3dbc991b1db83": {
     "model_module": "@jupyter-widgets/base",
     "model_module_version": "1.2.0",
     "model_name": "LayoutModel",
     "state": {
      "_model_module": "@jupyter-widgets/base",
      "_model_module_version": "1.2.0",
      "_model_name": "LayoutModel",
      "_view_count": null,
      "_view_module": "@jupyter-widgets/base",
      "_view_module_version": "1.2.0",
      "_view_name": "LayoutView",
      "align_content": null,
      "align_items": null,
      "align_self": null,
      "border": null,
      "bottom": null,
      "display": null,
      "flex": null,
      "flex_flow": null,
      "grid_area": null,
      "grid_auto_columns": null,
      "grid_auto_flow": null,
      "grid_auto_rows": null,
      "grid_column": null,
      "grid_gap": null,
      "grid_row": null,
      "grid_template_areas": null,
      "grid_template_columns": null,
      "grid_template_rows": null,
      "height": null,
      "justify_content": null,
      "justify_items": null,
      "left": null,
      "margin": null,
      "max_height": null,
      "max_width": null,
      "min_height": null,
      "min_width": null,
      "object_fit": null,
      "object_position": null,
      "order": null,
      "overflow": null,
      "overflow_x": null,
      "overflow_y": null,
      "padding": null,
      "right": null,
      "top": null,
      "visibility": null,
      "width": null
     }
    },
    "5632567ff69d4c9091f9bcebe702e2a7": {
     "model_module": "@jupyter-widgets/controls",
     "model_module_version": "1.5.0",
     "model_name": "DescriptionStyleModel",
     "state": {
      "_model_module": "@jupyter-widgets/controls",
      "_model_module_version": "1.5.0",
      "_model_name": "DescriptionStyleModel",
      "_view_count": null,
      "_view_module": "@jupyter-widgets/base",
      "_view_module_version": "1.2.0",
      "_view_name": "StyleView",
      "description_width": ""
     }
    },
    "662f3621779a475aa6d6f2d307cf9fac": {
     "model_module": "@jupyter-widgets/controls",
     "model_module_version": "1.5.0",
     "model_name": "FloatProgressModel",
     "state": {
      "_dom_classes": [],
      "_model_module": "@jupyter-widgets/controls",
      "_model_module_version": "1.5.0",
      "_model_name": "FloatProgressModel",
      "_view_count": null,
      "_view_module": "@jupyter-widgets/controls",
      "_view_module_version": "1.5.0",
      "_view_name": "ProgressView",
      "bar_style": "success",
      "description": "",
      "description_tooltip": null,
      "layout": "IPY_MODEL_70451f5e663f4424bd6b21303a0abc27",
      "max": 1,
      "min": 0,
      "orientation": "horizontal",
      "style": "IPY_MODEL_bfbd35465f274830a2684638692408d2",
      "value": 1
     }
    },
    "70451f5e663f4424bd6b21303a0abc27": {
     "model_module": "@jupyter-widgets/base",
     "model_module_version": "1.2.0",
     "model_name": "LayoutModel",
     "state": {
      "_model_module": "@jupyter-widgets/base",
      "_model_module_version": "1.2.0",
      "_model_name": "LayoutModel",
      "_view_count": null,
      "_view_module": "@jupyter-widgets/base",
      "_view_module_version": "1.2.0",
      "_view_name": "LayoutView",
      "align_content": null,
      "align_items": null,
      "align_self": null,
      "border": null,
      "bottom": null,
      "display": null,
      "flex": "2",
      "flex_flow": null,
      "grid_area": null,
      "grid_auto_columns": null,
      "grid_auto_flow": null,
      "grid_auto_rows": null,
      "grid_column": null,
      "grid_gap": null,
      "grid_row": null,
      "grid_template_areas": null,
      "grid_template_columns": null,
      "grid_template_rows": null,
      "height": null,
      "justify_content": null,
      "justify_items": null,
      "left": null,
      "margin": null,
      "max_height": null,
      "max_width": null,
      "min_height": null,
      "min_width": null,
      "object_fit": null,
      "object_position": null,
      "order": null,
      "overflow": null,
      "overflow_x": null,
      "overflow_y": null,
      "padding": null,
      "right": null,
      "top": null,
      "visibility": null,
      "width": null
     }
    },
    "7919634038ff43b2ae53751bae4da14d": {
     "model_module": "@jupyter-widgets/base",
     "model_module_version": "1.2.0",
     "model_name": "LayoutModel",
     "state": {
      "_model_module": "@jupyter-widgets/base",
      "_model_module_version": "1.2.0",
      "_model_name": "LayoutModel",
      "_view_count": null,
      "_view_module": "@jupyter-widgets/base",
      "_view_module_version": "1.2.0",
      "_view_name": "LayoutView",
      "align_content": null,
      "align_items": null,
      "align_self": null,
      "border": null,
      "bottom": null,
      "display": null,
      "flex": null,
      "flex_flow": null,
      "grid_area": null,
      "grid_auto_columns": null,
      "grid_auto_flow": null,
      "grid_auto_rows": null,
      "grid_column": null,
      "grid_gap": null,
      "grid_row": null,
      "grid_template_areas": null,
      "grid_template_columns": null,
      "grid_template_rows": null,
      "height": null,
      "justify_content": null,
      "justify_items": null,
      "left": null,
      "margin": null,
      "max_height": null,
      "max_width": null,
      "min_height": null,
      "min_width": null,
      "object_fit": null,
      "object_position": null,
      "order": null,
      "overflow": null,
      "overflow_x": null,
      "overflow_y": null,
      "padding": null,
      "right": null,
      "top": null,
      "visibility": null,
      "width": null
     }
    },
    "bfbd35465f274830a2684638692408d2": {
     "model_module": "@jupyter-widgets/controls",
     "model_module_version": "1.5.0",
     "model_name": "ProgressStyleModel",
     "state": {
      "_model_module": "@jupyter-widgets/controls",
      "_model_module_version": "1.5.0",
      "_model_name": "ProgressStyleModel",
      "_view_count": null,
      "_view_module": "@jupyter-widgets/base",
      "_view_module_version": "1.2.0",
      "_view_name": "StyleView",
      "bar_color": null,
      "description_width": ""
     }
    },
    "c1de53a1f3674ae29231ac0cc2321114": {
     "model_module": "@jupyter-widgets/base",
     "model_module_version": "1.2.0",
     "model_name": "LayoutModel",
     "state": {
      "_model_module": "@jupyter-widgets/base",
      "_model_module_version": "1.2.0",
      "_model_name": "LayoutModel",
      "_view_count": null,
      "_view_module": "@jupyter-widgets/base",
      "_view_module_version": "1.2.0",
      "_view_name": "LayoutView",
      "align_content": null,
      "align_items": null,
      "align_self": null,
      "border": null,
      "bottom": null,
      "display": "inline-flex",
      "flex": null,
      "flex_flow": "row wrap",
      "grid_area": null,
      "grid_auto_columns": null,
      "grid_auto_flow": null,
      "grid_auto_rows": null,
      "grid_column": null,
      "grid_gap": null,
      "grid_row": null,
      "grid_template_areas": null,
      "grid_template_columns": null,
      "grid_template_rows": null,
      "height": null,
      "justify_content": null,
      "justify_items": null,
      "left": null,
      "margin": null,
      "max_height": null,
      "max_width": null,
      "min_height": null,
      "min_width": null,
      "object_fit": null,
      "object_position": null,
      "order": null,
      "overflow": null,
      "overflow_x": null,
      "overflow_y": null,
      "padding": null,
      "right": null,
      "top": null,
      "visibility": null,
      "width": "100%"
     }
    },
    "ce670b4f34854ea79e33cbaa3b6791b0": {
     "model_module": "@jupyter-widgets/controls",
     "model_module_version": "1.5.0",
     "model_name": "HTMLModel",
     "state": {
      "_dom_classes": [],
      "_model_module": "@jupyter-widgets/controls",
      "_model_module_version": "1.5.0",
      "_model_name": "HTMLModel",
      "_view_count": null,
      "_view_module": "@jupyter-widgets/controls",
      "_view_module_version": "1.5.0",
      "_view_name": "HTMLView",
      "description": "",
      "description_tooltip": null,
      "layout": "IPY_MODEL_7919634038ff43b2ae53751bae4da14d",
      "placeholder": "​",
      "style": "IPY_MODEL_3176ee7db1ff40d0bb7fa87faddc3c01",
      "value": "Done! Use &#x27;show&#x27; commands to display/save.   "
     }
    }
   }
  }
 },
 "nbformat": 4,
 "nbformat_minor": 0
}
